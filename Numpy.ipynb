{
 "cells": [
  {
   "cell_type": "markdown",
   "metadata": {
    "id": "jWUQZ7olS4Ts"
   },
   "source": [
    "## Задания"
   ]
  },
  {
   "cell_type": "markdown",
   "metadata": {
    "id": "d97xcXfZTIea"
   },
   "source": [
    "**Задача 1.**\n",
    "\n",
    "Даны четыре действительных числа: x1, y1, x2, y2. Напишите функцию distance(x1, y1, x2, y2), вычисляющая евклидово расстояние ( https://ru.wikipedia.org/wiki/%D0%95%D0%B2%D0%BA%D0%BB%D0%B8%D0%B4%D0%BE%D0%B2%D0%B0_%D0%BC%D0%B5%D1%82%D1%80%D0%B8%D0%BA%D0%B0 ) между точкой (x1,y1) и (x2,y2)."
   ]
  },
  {
   "cell_type": "code",
   "execution_count": 1,
   "outputs": [],
   "source": [
    "import math\n",
    "import numpy as np"
   ],
   "metadata": {
    "collapsed": false
   }
  },
  {
   "cell_type": "code",
   "execution_count": 4,
   "metadata": {
    "id": "FwoN8YrfS8S9"
   },
   "outputs": [
    {
     "name": "stdout",
     "output_type": "stream",
     "text": [
      "Евклидово расстояние:  4.242640687119285\n"
     ]
    }
   ],
   "source": [
    "def distance(x1, y1, x2, y2):\n",
    "    euclid_distance = math.sqrt((x1 - x2) ** 2 + (y1 - y2) ** 2)\n",
    "    return euclid_distance\n",
    "\n",
    "x1 = int(input(\"Введите координату x1: \"))\n",
    "y1 = int(input(\"Введите координату y1: \"))\n",
    "x2 = int(input(\"Введите координату x2: \"))\n",
    "y2 = int(input(\"Введите координату y2: \"))\n",
    "\n",
    "print(\"Евклидово расстояние: \", distance(x1, y1, x2, y2))"
   ]
  },
  {
   "cell_type": "markdown",
   "metadata": {
    "id": "04v60qczU_fi"
   },
   "source": [
    "**Задача 2.**\n",
    "\n",
    "Написать функцию season(month), принимающую 1 аргумент — номер месяца (от 1 до 12), которая присваивает глобальной переменной s время года, которому этот месяц принадлежит (зима, весна, лето или осень)."
   ]
  },
  {
   "cell_type": "code",
   "execution_count": 2,
   "metadata": {
    "id": "j56j5EvKWsy1"
   },
   "outputs": [
    {
     "name": "stdout",
     "output_type": "stream",
     "text": [
      "Время года:  Лето\n"
     ]
    }
   ],
   "source": [
    "def season(month):\n",
    "    global s\n",
    "    match month:\n",
    "        case 1 | 2 | 12:\n",
    "            s = \"Зима\"\n",
    "        case 3 | 4 | 5:\n",
    "            s = \"Весная\"\n",
    "        case 6 | 7 | 8:\n",
    "            s = \"Лето\"\n",
    "        case 9 | 10 | 11:\n",
    "            s = \"Осень\"\n",
    "    return \"\"\n",
    "\n",
    "month = int(input(\"Введите номер месяца: \"))\n",
    "season(month)\n",
    "print(\"Время года: \", s)"
   ]
  },
  {
   "cell_type": "markdown",
   "metadata": {
    "id": "Xo4YtE9XWwJ-"
   },
   "source": [
    "**Задача 3.**\n",
    "\n",
    "Написать функцию is_prime, принимающую 1 аргумент — число от 0 до 1000, и возвращающую True, если оно простое, и False - иначе."
   ]
  },
  {
   "cell_type": "code",
   "execution_count": 4,
   "metadata": {
    "id": "JaI9rY6cW0YA"
   },
   "outputs": [
    {
     "name": "stdout",
     "output_type": "stream",
     "text": [
      "True\n",
      "True\n",
      "False\n"
     ]
    }
   ],
   "source": [
    "def is_prime(inputNumber):\n",
    "    count = 0\n",
    "    for i in range(2, int(inputNumber / 2)):\n",
    "        if inputNumber % i == 0:\n",
    "            count += 1\n",
    "    if count > 0:\n",
    "        return False\n",
    "    else:\n",
    "        return True\n",
    "\n",
    "print(is_prime(2))\n",
    "print(is_prime(13))\n",
    "print(is_prime(14))"
   ]
  },
  {
   "cell_type": "markdown",
   "metadata": {
    "id": "siBlTugkX5Il"
   },
   "source": [
    "**Задача 4.**\n",
    "\n",
    "Написать функцию reverse_list(lst), которая принимает в качестве аргумента список и возвращаем его в перевернутом виде.\n",
    "\n",
    "Например,\n",
    "- исходный список:  8, 1, 0, 4\n",
    "- полученный список: 4, 0, 1, 8\n",
    "\n",
    "Использовать встроенные функции Python нельзя. "
   ]
  },
  {
   "cell_type": "code",
   "execution_count": 32,
   "metadata": {
    "id": "6YqPaxokYT1_"
   },
   "outputs": [
    {
     "name": "stdout",
     "output_type": "stream",
     "text": [
      "[5, 4, 3, 2, 1]\n"
     ]
    }
   ],
   "source": [
    "def reverse_list(lst: list):\n",
    "    len_list = len(lst)\n",
    "    arr = []\n",
    "    for i in range(len_list - 1, -1, -1):\n",
    "      arr.append(lst[i])\n",
    "    return arr\n",
    "\n",
    "\n",
    "lst = [1,2,3,4,5]\n",
    "print(reverse_list(lst))"
   ]
  },
  {
   "cell_type": "markdown",
   "metadata": {
    "id": "4UUcGbHWr3wn"
   },
   "source": [
    "**Задача 5.**\n",
    "\n",
    "Распечатайте с 4 по 8 символ фразы \"Привет мир!\" приведенные к верхнему регистру."
   ]
  },
  {
   "cell_type": "code",
   "execution_count": 34,
   "metadata": {
    "id": "ICMD_GzvsETR"
   },
   "outputs": [
    {
     "name": "stdout",
     "output_type": "stream",
     "text": [
      "ВЕТ \n"
     ]
    }
   ],
   "source": [
    "strHello = 'Привет мир!'\n",
    "\n",
    "print(strHello[3:7].upper())"
   ]
  },
  {
   "cell_type": "markdown",
   "metadata": {
    "id": "Ei25f1pVsQLt"
   },
   "source": [
    "**Задача 6.**\n",
    "\n",
    "Напишите код, который все элементы массива x с нечетными индексами переставит в обратном порядке.\n",
    "\n",
    "Т.е. если x = [0, 1, 2, 3, 4, 5, 6, 7, 8, 9], то код должен получать [0, 9, 2, 7, 4, 5, 6, 3, 8, 1]"
   ]
  },
  {
   "cell_type": "code",
   "execution_count": 43,
   "metadata": {
    "id": "o93nN1cJsXNy"
   },
   "outputs": [
    {
     "name": "stdout",
     "output_type": "stream",
     "text": [
      "[0, 11, 2, 9, 4, 7, 6, 5, 8, 3, 10, 1]\n"
     ]
    }
   ],
   "source": [
    "def reverse_list(lst: list):\n",
    "    lst[1::2] = reversed(lst[1::2])\n",
    "    return lst\n",
    "\n",
    "\n",
    "lst = [0, 1, 2, 3, 4, 5, 6, 7, 8, 9, 10, 11]\n",
    "print(reverse_list(lst))"
   ]
  },
  {
   "cell_type": "markdown",
   "metadata": {
    "id": "-qcaQystsXYY"
   },
   "source": [
    "**Задача 7.**\n",
    "\n",
    "Напишите цикл, который выводит все числа от 0 до 500, делящиеся на 7, если в них есть цифра 8."
   ]
  },
  {
   "cell_type": "code",
   "execution_count": 38,
   "metadata": {
    "id": "5-d0zkldsuvr"
   },
   "outputs": [
    {
     "name": "stdout",
     "output_type": "stream",
     "text": [
      "28\n",
      "84\n",
      "98\n",
      "168\n",
      "182\n",
      "189\n",
      "238\n",
      "280\n",
      "287\n",
      "308\n",
      "378\n",
      "385\n",
      "448\n",
      "483\n"
     ]
    }
   ],
   "source": [
    "for i in range(0, 501):\n",
    "    if i % 7 == 0:\n",
    "        if \"8\" in str(i):\n",
    "            print(i)\n"
   ]
  },
  {
   "cell_type": "markdown",
   "metadata": {
    "id": "CTWMY6f9su7P"
   },
   "source": [
    "**Задача 8.**\n",
    "\n",
    "На вход функция more_than_five(lst) получает список из целых чисел. \n",
    "Результатом работы функции должен стать новый список, в котором содержатся только те числа, которые больше 10 по модулю."
   ]
  },
  {
   "cell_type": "code",
   "execution_count": 37,
   "metadata": {
    "id": "ChE1X9wvtMzQ"
   },
   "outputs": [
    {
     "name": "stdout",
     "output_type": "stream",
     "text": [
      "[-15, 11, -100]\n"
     ]
    }
   ],
   "source": [
    "def more_than_five(lst: list):\n",
    "    arr = []\n",
    "    for number in lst:\n",
    "        if abs(number) > 10:\n",
    "            arr.append(number)\n",
    "    return arr\n",
    "\n",
    "print(more_than_five([2, -15, 11, 10, 5, -100, -2]))"
   ]
  },
  {
   "cell_type": "markdown",
   "metadata": {
    "id": "vTu7Ibz2CesK"
   },
   "source": [
    "# Задания"
   ]
  },
  {
   "cell_type": "markdown",
   "metadata": {
    "id": "EobX-nHRDeT5"
   },
   "source": [
    "**Задача 1.**\n",
    "\n",
    "Создать матрицу размером `10х10` с 0 внутри, и 1 на границах. Например для `3х3`.\n",
    "\n",
    "```\n",
    "1 1 1\n",
    "1 0 1\n",
    "1 1 1\n",
    "```"
   ]
  },
  {
   "cell_type": "code",
   "execution_count": 50,
   "metadata": {
    "id": "MGvbhlGHCiJR"
   },
   "outputs": [
    {
     "name": "stdout",
     "output_type": "stream",
     "text": [
      "[[1. 1. 1. 1. 1. 1. 1. 1. 1. 1.]\n",
      " [1. 0. 0. 0. 0. 0. 0. 0. 0. 1.]\n",
      " [1. 0. 0. 0. 0. 0. 0. 0. 0. 1.]\n",
      " [1. 0. 0. 0. 0. 0. 0. 0. 0. 1.]\n",
      " [1. 0. 0. 0. 0. 0. 0. 0. 0. 1.]\n",
      " [1. 0. 0. 0. 0. 0. 0. 0. 0. 1.]\n",
      " [1. 0. 0. 0. 0. 0. 0. 0. 0. 1.]\n",
      " [1. 0. 0. 0. 0. 0. 0. 0. 0. 1.]\n",
      " [1. 0. 0. 0. 0. 0. 0. 0. 0. 1.]\n",
      " [1. 1. 1. 1. 1. 1. 1. 1. 1. 1.]]\n"
     ]
    }
   ],
   "source": [
    "array = np.ones((10, 10))\n",
    "array[1:9,1:9] = 0\n",
    "print(array)"
   ]
  },
  {
   "cell_type": "markdown",
   "metadata": {
    "id": "vnY0gsMOD45W"
   },
   "source": [
    "**Задача 2.**\n",
    "\n",
    "Создать 5x5 матрицу с 1,2,3,4 над диагональю. Все остальные элементы - 0."
   ]
  },
  {
   "cell_type": "code",
   "execution_count": 59,
   "metadata": {
    "id": "tnKHSJApEY4w"
   },
   "outputs": [
    {
     "name": "stdout",
     "output_type": "stream",
     "text": [
      "[[0 1 0 0 0]\n",
      " [0 0 2 0 0]\n",
      " [0 0 0 3 0]\n",
      " [0 0 0 0 4]\n",
      " [0 0 0 0 0]]\n"
     ]
    }
   ],
   "source": [
    "list = [1,2,3,4]\n",
    "array = np.diag(list, k = 1)\n",
    "print(array)"
   ]
  },
  {
   "cell_type": "markdown",
   "metadata": {
    "id": "7R26cYEXEsWb"
   },
   "source": [
    "**Задача 3.**\n",
    "\n",
    "Создайте случайную матрицу и вычтите из каждой строки среднее.\n",
    "\n",
    "**Не совсем понятно, из суммы строки вычитать среднее или из каждого элемента строки? И среднее вычислять по каждой строке или по всему массиву?**\n",
    "**В данном случае я вычту из суммы строки среднее по каждой строке**"
   ]
  },
  {
   "cell_type": "code",
   "execution_count": 13,
   "metadata": {
    "id": "eNDIKZPrUbZG"
   },
   "outputs": [
    {
     "name": "stdout",
     "output_type": "stream",
     "text": [
      "Сумма по строкам:  [3.23073425 2.9856422  2.0786955  2.76439433]\n",
      "Среднее по строкам:  [0.64614685 0.59712844 0.4157391  0.55287887]\n",
      "Вычисленная матрица:  [2.5845874  2.38851376 1.6629564  2.21151547]\n"
     ]
    }
   ],
   "source": [
    "np_array = np.random.default_rng().random((4,5))\n",
    "sum_array = np_array.sum(axis = 1)\n",
    "mean_array = np_array.mean(axis = 1)\n",
    "result_array = sum_array - mean_array\n",
    "print(\"Сумма по строкам: \", sum_array)\n",
    "print(\"Среднее по строкам: \", mean_array)\n",
    "print(\"Вычисленная матрица: \",result_array)"
   ]
  },
  {
   "cell_type": "markdown",
   "metadata": {
    "id": "CzAqzs7ClCSn"
   },
   "source": [
    "**Задача 4.**\n",
    "\n",
    "Написать функцию, принимающую на вход массив и меняющую знак у элементов, значения которых между 3 и 8. Протестировать на нескольких заданных вами массивах."
   ]
  },
  {
   "cell_type": "code",
   "execution_count": 15,
   "metadata": {
    "id": "63Ki9lyulzec"
   },
   "outputs": [
    {
     "name": "stdout",
     "output_type": "stream",
     "text": [
      "Исходная матрица:  [[ 2 -2  1]\n",
      " [ 3 -3  0]\n",
      " [ 9 -9 -7]\n",
      " [ 7  6 -6]]\n",
      "Результат работы:  [[ 2 -2  1]\n",
      " [ 3 -3  0]\n",
      " [ 9 -9  7]\n",
      " [-7 -6  6]]\n"
     ]
    }
   ],
   "source": [
    "def change_symbol(list):\n",
    "    for x in range(list.shape[0]):\n",
    "        for y in range(list.shape[1]):\n",
    "            if (abs(list[x,y]) > 3) and (abs(list[x, y]) < 8):\n",
    "                list[x, y] *= -1\n",
    "    return list\n",
    "list1 = np.array([[2, -2, 1], [3, -3, 0], [9, -9, -7], [7, 6, -6]])\n",
    "print(\"Исходная матрица: \", list1)\n",
    "print(\"Результат работы: \", change_symbol(list1))"
   ]
  },
  {
   "cell_type": "markdown",
   "metadata": {
    "id": "ha_XRvz7l9rx"
   },
   "source": [
    "**Задача 4.**\n",
    "\n",
    "Написать функцию, принимающую на вход массив и вычитающую среднее из каждой строки в матрице. Протестировать на нескольких заданных вами примерах."
   ]
  },
  {
   "cell_type": "code",
   "execution_count": 29,
   "metadata": {
    "id": "9nkzwep7mB5h"
   },
   "outputs": [
    {
     "name": "stdout",
     "output_type": "stream",
     "text": [
      "Исходная матрица:  [[ 2 -2  1]\n",
      " [ 3 -3  0]\n",
      " [ 9 -9 -7]\n",
      " [ 7  6 -6]]\n",
      "Среднее число матрицы:  0.08333333333333333\n",
      "Результат работы:  [[ 1.91666667 -2.08333333  0.91666667]\n",
      " [ 2.91666667 -3.08333333 -0.08333333]\n",
      " [ 8.91666667 -9.08333333 -7.08333333]\n",
      " [ 6.91666667  5.91666667 -6.08333333]]\n"
     ]
    }
   ],
   "source": [
    "def calculcate_mean(list):\n",
    "    mean_number = list.mean()\n",
    "    calculate_array = list - mean_number\n",
    "\n",
    "    return calculate_array, mean_number\n",
    "list1 = np.array([[2, -2, 1], [3, -3, 0], [9, -9, -7], [7, 6, -6]])\n",
    "print(\"Исходная матрица: \", list1)\n",
    "print(\"Среднее число матрицы: \", calculcate_mean(list1)[1])\n",
    "print(\"Результат работы: \", calculcate_mean(list1)[0])"
   ]
  },
  {
   "cell_type": "markdown",
   "metadata": {
    "id": "MJJ33mtstr-a"
   },
   "source": [
    "**Задача 5.**\n",
    "\n",
    "Дан вектор [1, 2, 3, 4, 5], построить новый вектор с тремя нулями между каждым значением."
   ]
  },
  {
   "cell_type": "code",
   "execution_count": 5,
   "metadata": {
    "id": "UZLtKFY80D6f"
   },
   "outputs": [
    {
     "name": "stdout",
     "output_type": "stream",
     "text": [
      "[1. 0. 0. 0. 2. 0. 0. 0. 3. 0. 0. 0. 4. 0. 0. 0. 5. 0. 0. 0.]\n"
     ]
    }
   ],
   "source": [
    "vector = np.array([1,2,3,4,5])\n",
    "vector2 = np.zeros(17)\n",
    "\n",
    "vector2[::4] = vector\n",
    "print(vector2)"
   ]
  },
  {
   "cell_type": "markdown",
   "metadata": {
    "id": "KU7g7UVs0EDr"
   },
   "source": [
    "**Задача 6.**\n",
    "\n",
    "\n",
    "Написать функцию, принимающую на вход матрицу MxN и меняющую 2 любые строки в матрице. Протестировать на нескольких заданных вами примерах."
   ]
  },
  {
   "cell_type": "code",
   "execution_count": 13,
   "metadata": {
    "id": "xMzdfDFuKwFw"
   },
   "outputs": [
    {
     "name": "stdout",
     "output_type": "stream",
     "text": [
      "Исходная матрица: \n",
      " [[0.62745419 0.43138516 0.01788892]\n",
      " [0.38646986 0.03655249 0.39078715]\n",
      " [0.8041098  0.49687562 0.78466624]\n",
      " [0.96807777 0.75283406 0.41861317]\n",
      " [0.29007804 0.6189354  0.79854111]]\n",
      "Изменённая матрица: \n",
      " [[0.62745419 0.43138516 0.01788892]\n",
      " [0.38646986 0.03655249 0.39078715]\n",
      " [0.8041098  0.49687562 0.78466624]\n",
      " [0.29007804 0.6189354  0.79854111]\n",
      " [0.96807777 0.75283406 0.41861317]]\n"
     ]
    }
   ],
   "source": [
    "def change_row(array, n1, n2):\n",
    "    array[[n1, n2]] = array[[n2, n1]]\n",
    "    return array\n",
    "\n",
    "example_array = np.random.default_rng().random((5,3))\n",
    "print(\"Исходная матрица: \\n\", example_array)\n",
    "print(\"Изменённая матрица: \\n\", change_row(example_array, 4, 3))"
   ]
  },
  {
   "cell_type": "markdown",
   "metadata": {
    "id": "Kiva3bYH0Z9S"
   },
   "source": [
    "**Задача 7.**\n",
    "\n",
    "\n",
    "Написать функцию, принимающую на вход одномерный массив и возвращающую наиболее частое значение в массиве и частоту его встречи. Протестировать на нескольких заданных вами примерах."
   ]
  },
  {
   "cell_type": "code",
   "execution_count": 17,
   "metadata": {
    "id": "Fmnb7-e70YdF"
   },
   "outputs": [
    {
     "name": "stdout",
     "output_type": "stream",
     "text": [
      "Самое большое значение:  100\n",
      "Самое частое значение:  20\n"
     ]
    }
   ],
   "source": [
    "def max_and_frequent(array):\n",
    "    max_number = array.max()\n",
    "    frequent_number = np.bincount(array).argmax()\n",
    "    return max_number, frequent_number\n",
    "\n",
    "array1 = np.array([1, 20, 20, 100])\n",
    "print(\"Самое большое значение: \", max_and_frequent(array1)[0])\n",
    "print(\"Самое частое значение: \", max_and_frequent(array1)[1])"
   ]
  },
  {
   "cell_type": "markdown",
   "metadata": {
    "id": "CA6upOsg0vuY"
   },
   "source": [
    "**Задача 8.** \n",
    "\n",
    "Написать функцию, принимающую на вход  массив 16x16 и считающую сумму по блокам 4x4. Протестировать на нескольких заданных вами примерах."
   ]
  },
  {
   "cell_type": "code",
   "execution_count": 24,
   "metadata": {
    "id": "biNnN0Gb056o"
   },
   "outputs": [
    {
     "name": "stdout",
     "output_type": "stream",
     "text": [
      "6.632090407738607\n",
      "7.8585545891996915\n",
      "8.51412531166445\n",
      "7.449338881824541\n",
      "8.107764211193103\n",
      "7.7526182689893055\n",
      "6.894882336541258\n",
      "8.560445751066647\n",
      "7.35329067530876\n",
      "7.8940580610303375\n",
      "8.8113680516908\n",
      "8.433872113039936\n",
      "6.823897176279436\n",
      "8.955355461797389\n",
      "7.325606878259244\n",
      "8.562647536736746\n"
     ]
    }
   ],
   "source": [
    "def sum_4x4(array):\n",
    "    for i in range(0, 16, 4):\n",
    "        for k in range(0, 16, 4):\n",
    "            print(np.sum(array[i:i+4, k:k+4]))\n",
    "\n",
    "array2 = np.random.default_rng().random((16,16))\n",
    "sum_4x4(array2)"
   ]
  },
  {
   "cell_type": "markdown",
   "metadata": {
    "id": "a5jYWrLl06BY"
   },
   "source": [
    "**Задача 9.**\n",
    "\n",
    "Написать функцию, принимающую на вход матрицу и возвращающую n наибольших значений в массиве. n вводится с клавиатуры. Протестировать на нескольких заданных вами примерах."
   ]
  },
  {
   "cell_type": "code",
   "execution_count": 25,
   "metadata": {
    "id": "WflOzZRy1BRy"
   },
   "outputs": [
    {
     "name": "stdout",
     "output_type": "stream",
     "text": [
      "Исходная матрица: \n",
      " [[0.12298204 0.36481598 0.23461335 0.05293091 0.46839137]\n",
      " [0.65423051 0.03692606 0.17878072 0.17864399 0.61142985]\n",
      " [0.24937997 0.393056   0.40871284 0.15592264 0.93117567]\n",
      " [0.26980916 0.17336244 0.8502481  0.83213781 0.82811011]\n",
      " [0.04946011 0.21593323 0.41786076 0.21558135 0.45209903]]\n",
      "Наибольшие значения: \n",
      "[[0.83213781]\n",
      " [0.8502481 ]\n",
      " [0.93117567]]\n"
     ]
    }
   ],
   "source": [
    "def frequent_numbers(array, n):\n",
    "    freq1 = array.reshape(-1, 1)\n",
    "    freq2 = np.sort(freq1, axis=0)\n",
    "    return  freq2[-n:]\n",
    "\n",
    "array2 = np.random.default_rng().random((5,5))\n",
    "n = int(input(\"Введите n: \"))\n",
    "print(\"Исходная матрица: \\n\", array2)\n",
    "print(f\"Наибольшие значения: \\n{frequent_numbers(array2,3)}\")"
   ]
  },
  {
   "cell_type": "markdown",
   "metadata": {
    "id": "UbB8AuQA1BY0"
   },
   "source": [
    "**Задача 10.**\n",
    "\n",
    "Написать функцию, принимающую на вход 10x3 матрица и находящую строки из неравных значений (например [2,2,3]). Протестировать на нескольких заданных вами примерах."
   ]
  },
  {
   "cell_type": "code",
   "execution_count": 22,
   "metadata": {
    "id": "YOKf8gMB1JCS"
   },
   "outputs": [
    {
     "name": "stdout",
     "output_type": "stream",
     "text": [
      "Строка №:  1\n",
      "Строка №:  7\n",
      "Строка №:  9\n",
      "Строка №:  10\n"
     ]
    }
   ],
   "source": [
    "def not_equal(array):\n",
    "    for i in range(0, 10):\n",
    "        if array[i, 0] != array[i, 1] or array[i, 0] != array[i, 2] or array[i, 1] != array[i, 2]:\n",
    "            print(\"Строка №: \", i + 1)\n",
    "\n",
    "array2 = np.array([[2,2,3],\n",
    "                   [3,3,3],\n",
    "                   [4,4,4],\n",
    "                   [5,5,5],\n",
    "                   [6,6,6],\n",
    "                   [7,7,7],\n",
    "                   [8,9,9],\n",
    "                   [9,9,9],\n",
    "                   [10,12,1],\n",
    "                   [2,1,1]])\n",
    "not_equal(array2)"
   ]
  },
  {
   "cell_type": "markdown",
   "metadata": {
    "id": "kDOcG70_1JJi"
   },
   "source": [
    "**Задача 11.**\n",
    "\n",
    "Написать функцию, принимающую на вход двумерный массив и находящую все различные строки. Протестировать на нескольких заданных вами примерах."
   ]
  },
  {
   "cell_type": "code",
   "execution_count": 31,
   "metadata": {
    "id": "Z370pCG41mUU"
   },
   "outputs": [
    {
     "name": "stdout",
     "output_type": "stream",
     "text": [
      "Строка №1 не равна строке №2\n",
      "Строка №1 не равна строке №4\n",
      "Строка №2 не равна строке №1\n",
      "Строка №2 не равна строке №3\n",
      "Строка №3 не равна строке №2\n",
      "Строка №3 не равна строке №4\n",
      "Строка №4 не равна строке №1\n",
      "Строка №4 не равна строке №3\n"
     ]
    }
   ],
   "source": [
    "def not_equal_row(array):\n",
    "    for i in range(0, array.shape[0]):\n",
    "        for k in range(0, array.shape[0]):\n",
    "            if np.not_equal(array[i], array[k]).all():\n",
    "                print(f\"Строка №{i+1} не равна строке №{k+1}\")\n",
    "\n",
    "array11 = np.array([[2,2,2],\n",
    "                    [3,3,3],\n",
    "                    [2,2,2],\n",
    "                    [3,3,3]])\n",
    "not_equal_row(array11)"
   ]
  },
  {
   "cell_type": "markdown",
   "metadata": {
    "id": "xLnW1uIL1mc_"
   },
   "source": [
    "**Задача 12.**\n",
    "\n",
    "Написать функцию, принимающую на вход два вектора одинакого размера и считающую расстояние между векторами. Протестировать на нескольких заданных вами примерах."
   ]
  },
  {
   "cell_type": "code",
   "execution_count": 41,
   "metadata": {
    "id": "yYu-Qco323yW"
   },
   "outputs": [
    {
     "name": "stdout",
     "output_type": "stream",
     "text": [
      "Расстояние:  2.23606797749979\n"
     ]
    }
   ],
   "source": [
    "def vector_distance(array1, array2):\n",
    "    sum_distance = 0\n",
    "    for i in range(0, array1.shape[0]):\n",
    "        sum_distance += ((array1[i] - array2[i]) ** 2)\n",
    "\n",
    "    distance_num = math.sqrt(sum_distance)\n",
    "    return distance_num\n",
    "\n",
    "array1 = np.array([1,2,3,4,5])\n",
    "array2 = np.array([2,3,4,5,6])\n",
    "\n",
    "print(\"Расстояние: \", vector_distance(array1, array2))"
   ]
  },
  {
   "cell_type": "markdown",
   "metadata": {
    "id": "jcl3nZ-Y236p"
   },
   "source": [
    "**Задача 13.**\n",
    "\n",
    "Написать функцию, принимающую на вход два вектора одинакого размера и находящую косинус угла между векторами. Протестировать на нескольких заданных вами примерах."
   ]
  },
  {
   "cell_type": "code",
   "execution_count": 109,
   "metadata": {
    "id": "GjM3s2YN3NEY"
   },
   "outputs": [
    {
     "name": "stdout",
     "output_type": "stream",
     "text": [
      "В градусах:  0.44006737157208653\n",
      "В радианах:  1.1151226278115574\n"
     ]
    }
   ],
   "source": [
    "def vector_cos(array1, array2):\n",
    "    sum_distance = 0\n",
    "    for i in range(0, array1.shape[0]):\n",
    "        sum_distance += (array1[i] * array2[i])\n",
    "\n",
    "    scalar_vectors = np.linalg.norm(array1) * np.linalg.norm(array2)\n",
    "    return sum_distance / scalar_vectors\n",
    "\n",
    "array1 = np.array([10, 4, -11])\n",
    "array2 = np.array([14, 25, 4])\n",
    "\n",
    "result_func = vector_cos(array1, array2)\n",
    "print(\"В градусах: \", result_func)\n",
    "print(\"В радианах: \", np.arccos(result_func))"
   ]
  },
  {
   "cell_type": "markdown",
   "metadata": {
    "id": "NOGrxa9o3WLZ"
   },
   "source": [
    "**Задача 14.**\n",
    "\n",
    "Написать функцию, принимающую на вход вектор A содержит float числа как больше, так и меньше нуля.\n",
    "\n",
    "Функция должна округлить их до целых и результат записать в глобальную переменную Z. Округление должно быть \"от нуля\", т.е.:\n",
    "\n",
    "- положительные числа округляем всегда вверх до целого\n",
    "- отрицательные числа округляем всегда вниз до целого\n",
    "- 0 остаётся 0\n",
    "\n",
    " Протестировать на нескольких заданных вами примерах.\n"
   ]
  },
  {
   "cell_type": "code",
   "execution_count": 202,
   "metadata": {
    "id": "x-RztsfF37Yt"
   },
   "outputs": [
    {
     "name": "stdout",
     "output_type": "stream",
     "text": [
      "[[ 2.  3.  3.]\n",
      " [-4. -4.  3.]]\n"
     ]
    }
   ],
   "source": [
    "def change_symbol(A):\n",
    "    array1 = np.where(A > 0, A, np.floor(A))\n",
    "    global Z\n",
    "    Z = np.where(array1 < 0, array1, np.ceil(array1))\n",
    "\n",
    "array = np.array([[2.0, 2.29, 2.89],\n",
    "                  [-3.02, -3.8, 2.99]])\n",
    "change_symbol(array)\n",
    "print(Z)"
   ]
  },
  {
   "cell_type": "markdown",
   "metadata": {
    "id": "6V2Z2SNX37jT"
   },
   "source": [
    "**Задача 15.**\n",
    "\n",
    "Написать функцию, принимающую на вход 2 вектора целых чисел A и B.\n",
    "\n",
    "Функция должна находить числа, встречающиеся в обоих векторах и добавлять их по возрастанию в глобальную переменную - вектор Z.\n",
    "\n",
    "*Если пересечений нет, то вектор Z будет пустым*.\n",
    "\n",
    " Протестировать на нескольких заданных вами примерах."
   ]
  },
  {
   "cell_type": "code",
   "execution_count": 242,
   "metadata": {
    "id": "ThxIR2zN4PFr"
   },
   "outputs": [
    {
     "name": "stdout",
     "output_type": "stream",
     "text": [
      "[2 3]\n"
     ]
    }
   ],
   "source": [
    "def comparison_vector(array1, array2):\n",
    "    global Z\n",
    "    Z = 0\n",
    "    for i in range(0, array1.shape[0]):\n",
    "        for k in range(0, array1.shape[0]):\n",
    "            if np.equal(array1[i], array2[k]).all():\n",
    "                Z = np.append(Z, array1[i])\n",
    "    Z = np.delete(Z, 0)\n",
    "\n",
    "array1 = np.array([1,2,3,4,5], int)\n",
    "array2 = np.array([3,6,7,2,8,9], int)\n",
    "\n",
    "comparison_vector(array1, array2)\n",
    "print(Z)"
   ]
  },
  {
   "cell_type": "markdown",
   "metadata": {
    "id": "GeUr4BbI433N"
   },
   "source": [
    "**Задача 16.**\n",
    "\n",
    "Написать функцию, принимающую на вход вектор и возвращающую максимальный элемент в векторе среди элементов, перед которыми стоит 0. \n",
    "\n",
    "Например для:\n",
    "\n",
    "`x = np.array([6, 2, 0, 3, 0, 0, 5, 7, 0])`\n",
    "\n",
    "Ответ:\n",
    "5"
   ]
  },
  {
   "cell_type": "code",
   "execution_count": 244,
   "metadata": {
    "id": "TVHVE4RB50Ti"
   },
   "outputs": [
    {
     "name": "stdout",
     "output_type": "stream",
     "text": [
      "5\n"
     ]
    }
   ],
   "source": [
    "def max_element_of_array(array):\n",
    "    zero = array == 0\n",
    "    return array[1:][zero[:-1]].max()\n",
    "\n",
    "array = np.array([6, 2, 0, 3, 0, 0, 5, 7, 0])\n",
    "print(max_element_of_array(array))"
   ]
  },
  {
   "cell_type": "markdown",
   "metadata": {
    "id": "3w6cbF5m438U"
   },
   "source": [
    "**Задача 17.**\n",
    "\n",
    "Написать функцию, принимающую на вход матрицу 5х3 и считающую длину каждого вектора в матрице (строка) и ищущую самый длинный вектор, вернуть его координаты и длину.\n",
    "\n",
    "Как выглядит матрица:\n",
    "\n",
    "```   \n",
    "     | x | y | z |\n",
    "     | 1 | 2 | 3 |\n",
    "     | 3 | 4 | 1 |\n",
    "     | ...       |\n",
    "```"
   ]
  },
  {
   "cell_type": "code",
   "execution_count": 264,
   "outputs": [
    {
     "name": "stdout",
     "output_type": "stream",
     "text": [
      "Индекс: 2\n",
      "Значение: 24\n"
     ]
    }
   ],
   "source": [
    "def calculate_length(array):\n",
    "    sum_row = np.sum(array, axis = 1)\n",
    "    max_element_value = sum_row.max()\n",
    "    max_element_index = sum_row.argmax()\n",
    "\n",
    "    return max_element_value, max_element_index\n",
    "\n",
    "array = np.array([[1,2,3],\n",
    "                  [4,5,6],\n",
    "                  [7,8,9],\n",
    "                  [1,2,3],\n",
    "                  [4,5,7]])\n",
    "\n",
    "result = calculate_length(array)\n",
    "print(f\"Индекс: {result[1]}\\nЗначение: {result[0]}\")"
   ],
   "metadata": {
    "collapsed": false
   }
  }
 ],
 "metadata": {
  "colab": {
   "collapsed_sections": [
    "xq5kwdSxKnJI"
   ],
   "provenance": []
  },
  "kernelspec": {
   "display_name": "Python 3.10.4 64-bit",
   "language": "python",
   "name": "python3"
  },
  "language_info": {
   "name": "python",
   "version": "3.10.4"
  },
  "vscode": {
   "interpreter": {
    "hash": "df89a35c3dacc890248c9eaf1af78674261a72605dca20e1e0ec28f2b99ee593"
   }
  }
 },
 "nbformat": 4,
 "nbformat_minor": 0
}
