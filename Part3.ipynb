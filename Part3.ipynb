{
 "cells": [
  {
   "cell_type": "markdown",
   "metadata": {
    "collapsed": false
   },
   "source": [
    "# Задание №1\n",
    " **Дано:** имя и фамилия.\n",
    " \n",
    " **Задание:** написать программу, которая будет приветствовать нового человека в мире Python.\n",
    "     Текст приветсвия: Hello **NAME SURNAME**! You just delved into Python. Great start!\n",
    "     \n",
    " **Пример:**\n",
    "     Hello Ibrahim Petrov! You just delved into Python. Great start!"
   ]
  },
  {
   "cell_type": "code",
   "execution_count": 1,
   "metadata": {
    "collapsed": false
   },
   "outputs": [
    {
     "name": "stdout",
     "output_type": "stream",
     "text": [
      "Hello Alexander Kuzminov ! You just delved into Python. Great start!\n"
     ]
    }
   ],
   "source": [
    "name = str(input(\"Введите имя: \"))\n",
    "surname = str(input(\"Введите фамилию: \"))\n",
    "\n",
    "print(f\"Hello {name} {surname}! You just delved into Python. Great start!\")"
   ]
  },
  {
   "cell_type": "markdown",
   "metadata": {
    "collapsed": false
   },
   "source": [
    "# Задание №2\n",
    " **Дано:** маркер (символ) и толщина фигуры.\n",
    " \n",
    " **Задание:** написать программу, которая будет отображать заданную фигуру.\n",
    " \n",
    " **Пример:** Маркер = **H**, толщина **5**."
   ]
  },
  {
   "cell_type": "code",
   "execution_count": 2,
   "metadata": {
    "collapsed": false
   },
   "outputs": [
    {
     "name": "stdout",
     "output_type": "stream",
     "text": [
      "    H    \n",
      "   HHH   \n",
      "  HHHHH  \n",
      " HHHHHHH \n",
      "HHHHHHHHH\n",
      "  HHHHH               HHHHH             \n",
      "  HHHHH               HHHHH             \n",
      "  HHHHH               HHHHH             \n",
      "  HHHHH               HHHHH             \n",
      "  HHHHH               HHHHH             \n",
      "  HHHHH               HHHHH             \n",
      "  HHHHHHHHHHHHHHHHHHHHHHHHH   \n",
      "  HHHHHHHHHHHHHHHHHHHHHHHHH   \n",
      "  HHHHHHHHHHHHHHHHHHHHHHHHH   \n",
      "  HHHHH               HHHHH             \n",
      "  HHHHH               HHHHH             \n",
      "  HHHHH               HHHHH             \n",
      "  HHHHH               HHHHH             \n",
      "  HHHHH               HHHHH             \n",
      "  HHHHH               HHHHH             \n",
      "                    HHHHHHHHH \n",
      "                     HHHHHHH  \n",
      "                      HHHHH   \n",
      "                       HHH    \n",
      "                        H     \n"
     ]
    }
   ],
   "source": [
    "thickness = 5\n",
    "c = 'H'\n",
    "\n",
    "\n",
    "for i in range(thickness):\n",
    "    print((c*i).rjust(thickness-1) + c + (c*i).ljust(thickness-1))\n",
    "\n",
    "\n",
    "for i in range(thickness+1):\n",
    "    print((c*thickness).center(thickness*2) + (c*thickness).center(thickness*6))\n",
    "\n",
    "\n",
    "for i in range((thickness+1)//2):\n",
    "    print((c*thickness*5).center(thickness*6))\n",
    "\n",
    "\n",
    "for i in range(thickness+1):\n",
    "    print((c*thickness).center(thickness*2) + (c*thickness).center(thickness*6))\n",
    "\n",
    "for i in range(thickness):\n",
    "    print(((c*(thickness-i-1)).rjust(thickness) + c + (c*(thickness-i-1)).ljust(thickness)).rjust(thickness*6))"
   ]
  },
  {
   "cell_type": "markdown",
   "metadata": {
    "collapsed": false
   },
   "source": [
    "# Задание №3\n",
    "**Дано:** текст любой длины.\n",
    " \n",
    " **Задание:** написать программу, которая выведет заголовок, используя заданный текст.\n",
    " Подсказка используйте метод **title**.\n",
    " \n",
    " **Пример:** text = 'hello world'; результат = Hello World"
   ]
  },
  {
   "cell_type": "code",
   "execution_count": 3,
   "metadata": {
    "collapsed": false
   },
   "outputs": [
    {
     "name": "stdout",
     "output_type": "stream",
     "text": [
      "Hello World D\n"
     ]
    }
   ],
   "source": [
    "inputText = str(input(\"Введите текст: \"))\n",
    "print(inputText.title())"
   ]
  },
  {
   "cell_type": "markdown",
   "metadata": {
    "collapsed": false
   },
   "source": [
    "# Задание №4\n",
    "**Дано:** денежная сумма (amount > 0).\n",
    " \n",
    " **Задание:** написать программу, которая распечатает число в принятом денежном формате **XXX,XXX.XX**.\n",
    " \n",
    " \n",
    " **Пример:** amount = 100500.157; результат = 100,500.16"
   ]
  },
  {
   "cell_type": "code",
   "execution_count": 6,
   "metadata": {
    "collapsed": false
   },
   "outputs": [
    {
     "name": "stdout",
     "output_type": "stream",
     "text": [
      "485,000.32\n"
     ]
    }
   ],
   "source": [
    "amount = float(input(\"Введите число: \"))\n",
    "\n",
    "print(\"{0:,.2f}\".format(amount))"
   ]
  },
  {
   "cell_type": "markdown",
   "metadata": {},
   "source": [
    "# Задание №5\n",
    "\n",
    " Дизайнер составил шаблон домашних ковриков. Для массового выпуска ковриков ему нужно уметь быстро составлять макет произвольного размера. Известно, что длина коврика всегда больше в 3 раза чем его ширина (**W = 3 * H**).\n",
    " \n",
    " **Дано:** ширина коврика.\n",
    " \n",
    " **Задание:** написать программу, которая будет составлять макет коврика для его дальнейшего производства.\n",
    " \n",
    " **Примеры:**"
   ]
  },
  {
   "cell_type": "code",
   "execution_count": 7,
   "metadata": {},
   "outputs": [
    {
     "name": "stdout",
     "output_type": "stream",
     "text": [
      "---------------.|.---------------\n",
      "------------.|..|..|.------------\n",
      "---------.|..|..|..|..|.---------\n",
      "------.|..|..|..|..|..|..|.------\n",
      "---.|..|..|..|..|..|..|..|..|.---\n",
      "-------------WELCOME-------------\n",
      "---.|..|..|..|..|..|..|..|..|.---\n",
      "------.|..|..|..|..|..|..|.------\n",
      "---------.|..|..|..|..|.---------\n",
      "------------.|..|..|.------------\n",
      "---------------.|.---------------\n"
     ]
    }
   ],
   "source": [
    "height = 11\n",
    "width = height * 3\n",
    "\n",
    "for stick_count in range(1, height, 2):\n",
    "    print(('.|.' * stick_count).center(width, '-'))\n",
    "\n",
    "print('WELCOME'.center(width, '-'))\n",
    "\n",
    "for stick_count in range(height-2, 0, -2):\n",
    "    print(('.|.' * stick_count).center(width, '-'))\n"
   ]
  },
  {
   "cell_type": "markdown",
   "metadata": {
    "collapsed": false
   },
   "source": [
    "<h2>Задание №6</h2>\n",
    "Дано: целое число.\n",
    "\n",
    "Задание: написать программу, которая перемножит все цифры заданного числа (0 - исключить).\n",
    "\n",
    "Примеры: 1) value = 123405, результат = 120 2) value = 999, результат = 729 3) value = 1000, результат = 1 4) value = 1111, результат = 1"
   ]
  },
  {
   "cell_type": "code",
   "execution_count": 8,
   "metadata": {
    "collapsed": false
   },
   "outputs": [
    {
     "name": "stdout",
     "output_type": "stream",
     "text": [
      "Результат 120\n"
     ]
    }
   ],
   "source": [
    "numberInput = int(input(\"Введите число: \"))\n",
    "numMultiplication = 1\n",
    "\n",
    "while numberInput > 0:\n",
    "\n",
    "    remainNum = numberInput % 10\n",
    "\n",
    "    if remainNum != 0:\n",
    "        numMultiplication *= remainNum\n",
    "    numberInput //= 10\n",
    "\n",
    "print(f\"Результат {numMultiplication}\")"
   ]
  }
 ],
 "metadata": {
  "kernelspec": {
   "display_name": "Python 3 (ipykernel)",
   "language": "python",
   "name": "python3"
  },
  "language_info": {
   "codemirror_mode": {
    "name": "ipython",
    "version": 3
   },
   "file_extension": ".py",
   "mimetype": "text/x-python",
   "name": "python",
   "nbconvert_exporter": "python",
   "pygments_lexer": "ipython3",
   "version": "3.11.4"
  }
 },
 "nbformat": 4,
 "nbformat_minor": 4
}
