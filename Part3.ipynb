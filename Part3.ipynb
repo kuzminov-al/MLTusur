{
 "cells": [
  {
   "cell_type": "markdown",
   "metadata": {},
   "source": [
    "## 3.6 Задачи\n",
    "### 1. Welcome to Python\n",
    " **Дано:** имя и фамилия.\n",
    " \n",
    " **Задание:** написать программу, которая будет приветствовать нового человека в мире Python.\n",
    "     Текст приветсвия: Hello **NAME SURNAME**! You just delved into Python. Great start!\n",
    "     \n",
    " **Пример:**\n",
    "     Hello Ibrahim Petrov! You just delved into Python. Great start!\n",
    " \n",
    " ### 2. Python art\n",
    " **Дано:** маркер (символ) и толщина фигуры.\n",
    " \n",
    " **Задание:** написать программу, которая будет отображать заданную фигуру.\n",
    " \n",
    " **Пример:** Маркер = **H**, толщина **5**.\n"
   ]
  },
  {
   "cell_type": "markdown",
   "source": [
    "<h2>Решение задания №1</h2>"
   ],
   "metadata": {
    "collapsed": false
   }
  },
  {
   "cell_type": "code",
   "execution_count": 9,
   "outputs": [
    {
     "name": "stdout",
     "output_type": "stream",
     "text": [
      "Hello Alexander Kuzminov! You just delved into Python. Great start!\n"
     ]
    }
   ],
   "source": [
    "name = str(input(\"Введите имя: \"))\n",
    "surname = str(input(\"Введите фамилию: \"))\n",
    "\n",
    "print(f\"Hello {name} {surname}! You just delved into Python. Great start!\")"
   ],
   "metadata": {
    "collapsed": false
   }
  },
  {
   "cell_type": "markdown",
   "source": [
    "<h2>Решение задания №2</h2>"
   ],
   "metadata": {
    "collapsed": false
   }
  },
  {
   "cell_type": "code",
   "execution_count": 7,
   "outputs": [
    {
     "name": "stdout",
     "output_type": "stream",
     "text": [
      "    H    \n",
      "   HHH   \n",
      "  HHHHH  \n",
      " HHHHHHH \n",
      "HHHHHHHHH\n",
      "  HHHHH               HHHHH             \n",
      "  HHHHH               HHHHH             \n",
      "  HHHHH               HHHHH             \n",
      "  HHHHH               HHHHH             \n",
      "  HHHHH               HHHHH             \n",
      "  HHHHH               HHHHH             \n",
      "  HHHHHHHHHHHHHHHHHHHHHHHHH   \n",
      "  HHHHHHHHHHHHHHHHHHHHHHHHH   \n",
      "  HHHHHHHHHHHHHHHHHHHHHHHHH   \n",
      "  HHHHH               HHHHH             \n",
      "  HHHHH               HHHHH             \n",
      "  HHHHH               HHHHH             \n",
      "  HHHHH               HHHHH             \n",
      "  HHHHH               HHHHH             \n",
      "  HHHHH               HHHHH             \n",
      "                    HHHHHHHHH \n",
      "                     HHHHHHH  \n",
      "                      HHHHH   \n",
      "                       HHH    \n",
      "                        H     \n"
     ]
    }
   ],
   "source": [
    "thickness = 5\n",
    "c = 'H'\n",
    "\n",
    "#Top Cone\n",
    "for i in range(thickness):\n",
    "    print((c*i).rjust(thickness-1) + c + (c*i).ljust(thickness-1))\n",
    "\n",
    "#Top Pillars\n",
    "for i in range(thickness+1):\n",
    "    print((c*thickness).center(thickness*2) + (c*thickness).center(thickness*6))\n",
    "\n",
    "#Middle Belt\n",
    "for i in range((thickness+1)//2):\n",
    "    print((c*thickness*5).center(thickness*6))\n",
    "\n",
    "#Bottom Pillars\n",
    "for i in range(thickness+1):\n",
    "    print((c*thickness).center(thickness*2) + (c*thickness).center(thickness*6))\n",
    "\n",
    "#Bottom Cone\n",
    "for i in range(thickness):\n",
    "    print(((c*(thickness-i-1)).rjust(thickness) + c + (c*(thickness-i-1)).ljust(thickness)).rjust(thickness*6))"
   ],
   "metadata": {
    "collapsed": false
   }
  },
  {
   "cell_type": "markdown",
   "metadata": {},
   "source": [
    " ### 3. Заголовок\n",
    " **Дано:** текст любой длины.\n",
    " \n",
    " **Задание:** написать программу, которая выведет заголовок, используя заданный текст.\n",
    " Подсказка используйте метод **title**.\n",
    " \n",
    " **Пример:** text = 'hello world'; результат = Hello World\n",
    " \n",
    " ### 4. Форматированный вывод денежной суммы\n",
    " **Дано:** денежная сумма (amount > 0).\n",
    " \n",
    " **Задание:** написать программу, которая распечатает число в принятом денежном формате **XXX,XXX.XX**.\n",
    " \n",
    " \n",
    " **Пример:** amount = 100500.157; результат = 100,500.16\n",
    " \n",
    "  ### 5. Дизайнер ковриков\n",
    " Дизайнер составил шаблон домашних ковриков. Для массового выпуска ковриков ему нужно уметь быстро составлять макет произвольного размера. Известно, что длина коврика всегда больше в 3 раза чем его ширина (**W = 3 * H**).\n",
    " \n",
    " **Дано:** ширина коврика.\n",
    " \n",
    " **Задание:** написать программу, которая будет составлять макет коврика для его дальнейшего производства.\n",
    " \n",
    " **Примеры:**"
   ]
  },
  {
   "cell_type": "markdown",
   "source": [
    "<h2>Решение задания 3</h2>"
   ],
   "metadata": {
    "collapsed": false
   }
  },
  {
   "cell_type": "code",
   "execution_count": 8,
   "outputs": [
    {
     "name": "stdout",
     "output_type": "stream",
     "text": [
      "Hello World World Hello\n"
     ]
    }
   ],
   "source": [
    "inputText = str(input(\"Введите текст: \"))\n",
    "print(inputText.title())"
   ],
   "metadata": {
    "collapsed": false
   }
  },
  {
   "cell_type": "markdown",
   "source": [
    "<h2>Решение задания №4</h2>"
   ],
   "metadata": {
    "collapsed": false
   }
  },
  {
   "cell_type": "code",
   "execution_count": 18,
   "outputs": [
    {
     "name": "stdout",
     "output_type": "stream",
     "text": [
      "281,562.00\n"
     ]
    }
   ],
   "source": [
    "amount = float(input(\"Введите число: \"))\n",
    "\n",
    "print(\"{0:,.2f}\".format(amount))"
   ],
   "metadata": {
    "collapsed": false
   }
  },
  {
   "cell_type": "markdown",
   "metadata": {},
   "source": [
    "### Решение задания №5"
   ]
  },
  {
   "cell_type": "code",
   "execution_count": 19,
   "metadata": {},
   "outputs": [
    {
     "name": "stdout",
     "output_type": "stream",
     "text": [
      "---------------.|.---------------\n",
      "------------.|..|..|.------------\n",
      "---------.|..|..|..|..|.---------\n",
      "------.|..|..|..|..|..|..|.------\n",
      "---.|..|..|..|..|..|..|..|..|.---\n",
      "-------------WELCOME-------------\n",
      "---.|..|..|..|..|..|..|..|..|.---\n",
      "------.|..|..|..|..|..|..|.------\n",
      "---------.|..|..|..|..|.---------\n",
      "------------.|..|..|.------------\n",
      "---------------.|.---------------\n"
     ]
    }
   ],
   "source": [
    "height = 11\n",
    "width = height * 3\n",
    "\n",
    "for stick_count in range(1, height, 2):\n",
    "    print(('.|.' * stick_count).center(width, '-'))\n",
    "\n",
    "print('WELCOME'.center(width, '-'))\n",
    "\n",
    "for stick_count in range(height-2, 0, -2):\n",
    "    print(('.|.' * stick_count).center(width, '-'))\n"
   ]
  },
  {
   "cell_type": "code",
   "execution_count": null,
   "outputs": [],
   "source": [],
   "metadata": {
    "collapsed": false
   }
  }
 ],
 "metadata": {
  "kernelspec": {
   "display_name": "Python 3 (ipykernel)",
   "language": "python",
   "name": "python3"
  },
  "language_info": {
   "codemirror_mode": {
    "name": "ipython",
    "version": 3
   },
   "file_extension": ".py",
   "mimetype": "text/x-python",
   "name": "python",
   "nbconvert_exporter": "python",
   "pygments_lexer": "ipython3",
   "version": "3.10.6"
  }
 },
 "nbformat": 4,
 "nbformat_minor": 4
}
