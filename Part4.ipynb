{
 "cells": [
  {
   "cell_type": "markdown",
   "metadata": {},
   "source": [
    "## 4.6 Задачи\n",
    " ### 1. Среднее\n",
    " **Дано:** 3 случайных числа.\n",
    " \n",
    " **Задание:** написать программу, которая будет вычислять среднее значение этих чисел.\n",
    "     \n",
    " **Пример:**\n",
    "     (52 + 56 + 60) / 3 = 56"
   ]
  },
  {
   "cell_type": "markdown",
   "source": [
    "<h2>Решение задания №1</h2>"
   ],
   "metadata": {
    "collapsed": false
   }
  },
  {
   "cell_type": "code",
   "execution_count": 4,
   "metadata": {},
   "outputs": [
    {
     "name": "stdout",
     "output_type": "stream",
     "text": [
      "80.0\n"
     ]
    }
   ],
   "source": [
    "# Пример генерации случайных чисел.\n",
    "from random import randint\n",
    "\n",
    "number1 = randint(0, 100)\n",
    "number2 = randint(0, 100)\n",
    "number3 = randint(0, 100)\n",
    "\n",
    "average_mean = (number1 + number2 + number3) / 3\n",
    "\n",
    "print(average_mean)"
   ]
  },
  {
   "cell_type": "markdown",
   "metadata": {},
   "source": [
    " ### 2. Деление и еще раз деление\n",
    " **Дано:** 2 случайных числа.\n",
    " \n",
    " **Задание:** написать программу, которая будет печать результат целочисленного деления этих чисел, а также остаток от деления первого от второго.\n",
    "     \n",
    " **Пример:**\n",
    "     \n",
    "     x = 177 и y = 10\n",
    "    \n",
    "    Результат:\n",
    "     17, 7"
   ]
  },
  {
   "cell_type": "markdown",
   "source": [
    "<h2>Решение задания №2</h2>"
   ],
   "metadata": {
    "collapsed": false
   }
  },
  {
   "cell_type": "code",
   "execution_count": 18,
   "outputs": [
    {
     "name": "stdout",
     "output_type": "stream",
     "text": [
      "Целочисленное деление: 12\n",
      "Остаток от деления 1\n"
     ]
    }
   ],
   "source": [
    "number1 = randint(0, 100)\n",
    "number2 = randint(0, 100)\n",
    "\n",
    "print(\"Целочисленное деление: {}\".format(number1 // number2))\n",
    "print(\"Остаток от деления {}\".format(number1 % number2))"
   ],
   "metadata": {
    "collapsed": false
   }
  },
  {
   "cell_type": "markdown",
   "metadata": {},
   "source": [
    " ### 3. Округление\n",
    " **Дано:** число с плавающей точкой.\n",
    " \n",
    " **Задание:** написать программу, которая будет округлять заданное число: \n",
    "\n",
    " 1) 2х знаков после запятой;\n",
    " 2) до целого;\n",
    " 3) дополнять слева столько нулей, сколько не хватает числу до 11 знаков.\n",
    "     \n",
    " **Пример:**\n",
    " \n",
    " x = 14.721\n",
    " \n",
    " 1) 14.72\n",
    " \n",
    " 2) 15\n",
    " \n",
    " 3) 0000014.721\n"
   ]
  },
  {
   "cell_type": "markdown",
   "source": [
    "<h2>Решение задания №3</h2>"
   ],
   "metadata": {
    "collapsed": false
   }
  },
  {
   "cell_type": "code",
   "execution_count": 32,
   "outputs": [
    {
     "name": "stdout",
     "output_type": "stream",
     "text": [
      "1. 5554.44 \n",
      "2. 5554 \n",
      "3. 00005554.44\n"
     ]
    }
   ],
   "source": [
    "floatNumber = float(input(\"Введите вещественное число: \"))\n",
    "\n",
    "roundNumber = round(floatNumber, 2)\n",
    "intNumber = int(floatNumber)\n",
    "\n",
    "print(f\"1. {roundNumber} \\n2. {intNumber} \\n3. {floatNumber:011}\")"
   ],
   "metadata": {
    "collapsed": false
   }
  },
  {
   "cell_type": "markdown",
   "source": [
    "[Junior] <h2>4. Число \"наоборот\"</h2>\n",
    "\n",
    "Дано: целое число (int).\n",
    "\n",
    "Задание: написать программу, которая будет инвертировать целое число\n",
    "\n",
    "Пример:\n",
    "\n",
    "1) x = 123 -> 321 2) x = -325 -> -523 3) x = 0 -> 0\n"
   ],
   "metadata": {
    "collapsed": false
   }
  },
  {
   "cell_type": "code",
   "execution_count": 2,
   "outputs": [
    {
     "name": "stdout",
     "output_type": "stream",
     "text": [
      "Инвертированное число: 654321\n"
     ]
    }
   ],
   "source": [
    "inputNum = int(input(\"Введите число: \"))\n",
    "reverseNum = 0\n",
    "\n",
    "while inputNum > 0:\n",
    "    remainNum = inputNum % 10\n",
    "    inputNum //= 10\n",
    "    reverseNum *= 10\n",
    "    reverseNum += remainNum\n",
    "\n",
    "print(f\"Инвертированное число: {reverseNum}\")"
   ],
   "metadata": {
    "collapsed": false
   }
  },
  {
   "cell_type": "markdown",
   "source": [
    "[Junior+] <h2>5. Число \"наоборот\" (усложненное)</h2>\n",
    "\n",
    "Дано: целое число (int).\n",
    "\n",
    "Задание: написать программу, которая будет инвертировать целое число. Если инвертированное число выходит за границы (32-bit integer)\n",
    "\n",
    "Пример:\n",
    "\n",
    "1) x = 123 -> 321 2) x = -325 -> -523 3) x = 0 -> 0 4) x = 1563847412 -> 0\n"
   ],
   "metadata": {
    "collapsed": false
   }
  },
  {
   "cell_type": "code",
   "execution_count": 28,
   "outputs": [
    {
     "name": "stdout",
     "output_type": "stream",
     "text": [
      "Инвертированное число: 0\n"
     ]
    }
   ],
   "source": [
    "inputNum = int(input(\"Введите число: \"))\n",
    "reverseNum = 0\n",
    "\n",
    "\n",
    "if ((len(bin(inputNum)) - 2) < 32):\n",
    "    while inputNum > 0:\n",
    "        remainNum = inputNum % 10\n",
    "        inputNum //= 10\n",
    "        reverseNum *= 10\n",
    "        reverseNum += remainNum\n",
    "else:\n",
    "    reverseNum = 0\n",
    "print(f\"Инвертированное число: {reverseNum}\")"
   ],
   "metadata": {
    "collapsed": false
   }
  }
 ],
 "metadata": {
  "kernelspec": {
   "display_name": "Python 3 (ipykernel)",
   "language": "python",
   "name": "python3"
  },
  "language_info": {
   "codemirror_mode": {
    "name": "ipython",
    "version": 3
   },
   "file_extension": ".py",
   "mimetype": "text/x-python",
   "name": "python",
   "nbconvert_exporter": "python",
   "pygments_lexer": "ipython3",
   "version": "3.10.6"
  }
 },
 "nbformat": 4,
 "nbformat_minor": 4
}
