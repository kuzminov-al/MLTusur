{
 "cells": [
  {
   "cell_type": "markdown",
   "metadata": {
    "collapsed": false
   },
   "source": [
    "# Задание №1\n",
    "**Дано:** 3 случайных числа.\n",
    " \n",
    " **Задание:** написать программу, которая будет вычислять среднее значение этих чисел.\n",
    "     \n",
    " **Пример:**\n",
    "     (52 + 56 + 60) / 3 = 56"
   ]
  },
  {
   "cell_type": "code",
   "execution_count": 6,
   "metadata": {},
   "outputs": [
    {
     "name": "stdout",
     "output_type": "stream",
     "text": [
      "90 + 55 + 61 / 3 = 68.67\n"
     ]
    }
   ],
   "source": [
    "from random import randint\n",
    "\n",
    "number_1 = randint(0, 100)\n",
    "number_2 = randint(0, 100)\n",
    "number_3 = randint(0, 100)\n",
    "\n",
    "average_num = (number_1 + number_2 + number_3) / 3\n",
    "\n",
    "print(f\"{number_1} + {number_2} + {number_3} / 3 = {average_num:.2f}\")"
   ]
  },
  {
   "cell_type": "markdown",
   "metadata": {
    "collapsed": false
   },
   "source": [
    "# Задание №2\n",
    "**Дано:** 2 случайных числа.\n",
    " \n",
    " **Задание:** написать программу, которая будет печать результат целочисленного деления этих чисел, а также остаток от деления первого от второго.\n",
    "     \n",
    " **Пример:**\n",
    "     \n",
    "     x = 177 и y = 10\n",
    "    \n",
    "    Результат:\n",
    "     17, 7"
   ]
  },
  {
   "cell_type": "code",
   "execution_count": 7,
   "metadata": {
    "collapsed": false
   },
   "outputs": [
    {
     "name": "stdout",
     "output_type": "stream",
     "text": [
      "Целочисленное деление: 0\n",
      "Остаток от деления 34\n"
     ]
    }
   ],
   "source": [
    "number_1 = randint(0, 100)\n",
    "number_2 = randint(0, 100)\n",
    "\n",
    "print(\"Целочисленное деление: {}\".format(number_1 // number_2))\n",
    "print(\"Остаток от деления {}\".format(number_1 % number_2))"
   ]
  },
  {
   "cell_type": "markdown",
   "metadata": {
    "collapsed": false
   },
   "source": [
    "# Задание №3\n",
    "**Дано:** число с плавающей точкой.\n",
    " \n",
    " **Задание:** написать программу, которая будет округлять заданное число: \n",
    "\n",
    " 1) 2х знаков после запятой;\n",
    " 2) до целого;\n",
    " 3) дополнять слева столько нулей, сколько не хватает числу до 11 знаков.\n",
    "     \n",
    " **Пример:**\n",
    " \n",
    " x = 14.721\n",
    " \n",
    " 1) 14.72\n",
    " \n",
    " 2) 15\n",
    " \n",
    " 3) 0000014.721"
   ]
  },
  {
   "cell_type": "code",
   "execution_count": 8,
   "metadata": {
    "collapsed": false
   },
   "outputs": [
    {
     "name": "stdout",
     "output_type": "stream",
     "text": [
      "1. 14.72 \n",
      "2. 14 \n",
      "3. 0000014.721\n"
     ]
    }
   ],
   "source": [
    "float_number = float(input(\"Введите вещественное число: \"))\n",
    "\n",
    "round_number = round(float_number, 2)\n",
    "int_number = int(float_number)\n",
    "\n",
    "print(f\"1. {round_number} \\n2. {int_number} \\n3. {float_number:011}\")"
   ]
  },
  {
   "cell_type": "markdown",
   "metadata": {
    "collapsed": false
   },
   "source": [
    "# Задание №4\n",
    "\n",
    "Дано: целое число (int).\n",
    "\n",
    "Задание: написать программу, которая будет инвертировать целое число\n",
    "\n",
    "Пример:\n",
    "\n",
    "1) x = 123 -> 321 2) x = -325 -> -523 3) x = 0 -> 0\n"
   ]
  },
  {
   "cell_type": "code",
   "execution_count": 9,
   "metadata": {
    "collapsed": false
   },
   "outputs": [
    {
     "name": "stdout",
     "output_type": "stream",
     "text": [
      "Инвертированное число: 321\n"
     ]
    }
   ],
   "source": [
    "input_num = int(input(\"Введите число: \"))\n",
    "reverse_num = 0\n",
    "\n",
    "while input_num > 0:\n",
    "    remain_num = input_num % 10\n",
    "    input_num //= 10\n",
    "    reverse_num *= 10\n",
    "    reverse_num += remain_num\n",
    "\n",
    "print(f\"Инвертированное число: {reverse_num}\")"
   ]
  },
  {
   "cell_type": "markdown",
   "metadata": {
    "collapsed": false
   },
   "source": [
    "# Задание №5\n",
    "\n",
    "Дано: целое число (int).\n",
    "\n",
    "Задание: написать программу, которая будет инвертировать целое число. Если инвертированное число выходит за границы (32-bit integer)\n",
    "\n",
    "Пример:\n",
    "\n",
    "1) x = 123 -> 321 2) x = -325 -> -523 3) x = 0 -> 0 4) x = 1563847412 -> 0\n"
   ]
  },
  {
   "cell_type": "code",
   "execution_count": 12,
   "metadata": {
    "collapsed": false
   },
   "outputs": [
    {
     "name": "stdout",
     "output_type": "stream",
     "text": [
      "Инвертированное число: 0\n"
     ]
    }
   ],
   "source": [
    "input_num = int(input(\"Введите число: \"))\n",
    "reverse_num = 0\n",
    "\n",
    "\n",
    "if ((len(bin(input_num)) - 2) < 32):\n",
    "    while input_num > 0:\n",
    "        remain_num = input_num % 10\n",
    "        input_num //= 10\n",
    "        reverse_num *= 10\n",
    "        reverse_num += remain_num\n",
    "else:\n",
    "    reverse_num = 0\n",
    "print(f\"Инвертированное число: {reverse_num}\")"
   ]
  }
 ],
 "metadata": {
  "kernelspec": {
   "display_name": "Python 3 (ipykernel)",
   "language": "python",
   "name": "python3"
  },
  "language_info": {
   "codemirror_mode": {
    "name": "ipython",
    "version": 3
   },
   "file_extension": ".py",
   "mimetype": "text/x-python",
   "name": "python",
   "nbconvert_exporter": "python",
   "pygments_lexer": "ipython3",
   "version": "3.11.4"
  }
 },
 "nbformat": 4,
 "nbformat_minor": 4
}
