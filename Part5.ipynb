{
 "cells": [
  {
   "cell_type": "markdown",
   "source": [
    "### 1. Fizz Buzz\n",
    "\n",
    " **Дано:** Число, как целочисленное (int).\n",
    "\n",
    " **Задание:**\n",
    "\n",
    "\"Fizz buzz\" это игра со словами, с помощью которой мы будем учить наших роботов делению. Давайте обучим компьютер.\n",
    "\n",
    "Вы должны написать программу, которая принимает положительное целое число и возвращает сл. значения.\n",
    "\n",
    "  1. \"Fizz Buzz\", если число делится на 3 и 5;\n",
    "  2. \"Fizz\", если число делится на 3;\n",
    "  3. \"Buzz\", если число делится на 5;\n",
    "\n",
    "Число, как строку для остальных случаев.\n",
    "\n",
    " **Пример:**\n",
    "\n",
    "     x = 15, результат: \"Fizz Buzz\"\n",
    "\n",
    "     x = 6, результат: \"Fizz\"\n",
    "\n",
    "     x = 5, результат: \"Buzz\"\n",
    "\n",
    "     x = 7, результат: \"7\"\n",
    "\n",
    "<h2>Решение задания №1</h2>"
   ],
   "metadata": {
    "collapsed": false
   }
  },
  {
   "cell_type": "code",
   "execution_count": 10,
   "outputs": [
    {
     "name": "stdout",
     "output_type": "stream",
     "text": [
      "Исходное число: 7\n",
      "7\n"
     ]
    }
   ],
   "source": [
    "input_number = int(input(\"Введите число: \"))\n",
    "\n",
    "print(f\"Исходное число: {input_number}\")\n",
    "if (input_number % 3 == 0) and (input_number % 5 == 0):\n",
    "    print(\"Fizz Buzz\")\n",
    "elif (input_number % 3 == 0):\n",
    "    print(\"Fizz\")\n",
    "elif (input_number % 5 == 0):\n",
    "    print(\"Buzz\")\n",
    "else:\n",
    "    print(str(input_number))"
   ],
   "metadata": {
    "collapsed": false
   }
  },
  {
   "cell_type": "markdown",
   "source": [
    "### 2. Оценка числа\n",
    "\n",
    " **Дано:** Число x.\n",
    "\n",
    " **Задание:** нужно написать программу, которая дает оценку заданному значению, используя следующие правила.\n",
    "\n",
    "   1. если x нечетное, то это \"Плохо\"\n",
    "   2. если x = [2, 5] и четное, то это \"Неплохо\"\n",
    "   3. если x = [6, 20] и четное, то это \"Так себе\"\n",
    "   4. если x > 20 и четное, то это \"Отлично\"\n",
    "\n",
    "\n",
    " **Пример:**\n",
    "\n",
    "     x = 15, результат: \"Плохо\"\n",
    "\n",
    "     x = 4, результат: \"Неплохо\"\n",
    "\n",
    "     x = 8, результат: \"Так себе\"\n",
    "\n",
    "     x = 24, результат: \"Отлично\"\n",
    "\n",
    " <h2>Решение задани №2</h2>"
   ],
   "metadata": {
    "collapsed": false
   }
  },
  {
   "cell_type": "code",
   "execution_count": 11,
   "outputs": [
    {
     "name": "stdout",
     "output_type": "stream",
     "text": [
      "Исходное число: 24\n",
      "Отлично\n"
     ]
    }
   ],
   "source": [
    "input_number = int(input(\"Введите число: \"))\n",
    "\n",
    "print(f\"Исходное число: {input_number}\")\n",
    "if (input_number % 2 != 0):\n",
    "    print(\"Плохо\")\n",
    "elif (input_number >= 2 and input_number <= 5) and (input_number % 2 == 0):\n",
    "    print(\"Неплохо\")\n",
    "elif (input_number >= 6 and input_number <= 20) and (input_number % 2 == 0):\n",
    "    print(\"Так себе\")\n",
    "elif (input_number > 20) and (input_number % 2 == 0):\n",
    "    print(\"Отлично\")"
   ],
   "metadata": {
    "collapsed": false
   }
  },
  {
   "cell_type": "markdown",
   "source": [
    "### 3. Последовательность\n",
    "\n",
    " **Дано:** Число N = [1-9].\n",
    "\n",
    " **Задание:** нужно написать программу, которая выведет последовательность 123..N\n",
    "\n",
    "\n",
    " **Пример:**\n",
    "\n",
    "     N = 3, результат: 123\n",
    "\n",
    "     N = 9, результат: 123456789\n",
    "\n",
    "     x = 1, результат: 1\n",
    "\n",
    "<h2>Решение задания №3</h2>"
   ],
   "metadata": {
    "collapsed": false
   }
  },
  {
   "cell_type": "code",
   "execution_count": 17,
   "outputs": [
    {
     "name": "stdout",
     "output_type": "stream",
     "text": [
      "Исходное число: 9\n",
      "123456789"
     ]
    }
   ],
   "source": [
    "input_number = int(input(\"Введите число: \"))\n",
    "\n",
    "print(f\"Исходное число: {input_number}\")\n",
    "for i in range(1, input_number + 1):\n",
    "    print(str(i), end = \"\")"
   ],
   "metadata": {
    "collapsed": false
   }
  },
  {
   "cell_type": "markdown",
   "source": [
    "### 4. Секретное сообщение\n",
    "\n",
    " \"Где умный человек прячет лист? В лесу. Но что если леса нет? ... Он выращивает лес и прячет его там.\"\n",
    "-- Гилберт Кит Честертон\n",
    "\n",
    "Когда-нибудь пробовали отправить секретное сообщение кому-то не пользуясь услугами почты? Вы можете использовать газету, чтобы рассказать кому-то свой секрет. Даже если кто-то найдет ваше сообщение, легко отмахнуться и сказать что это паранойя и теория заговора. Один из самых простых способов спрятать ваше секретное сообщение это использовать заглавные буквы. Давайте найдем несколько таких секретных сообщений.\n",
    "\n",
    "\n",
    " **Дано:** Дан кусок текста (str).\n",
    "\n",
    " **Задание:** Соберите все заглавные буквы в одно слово в том порядке как они встречаются в куске текста.\n",
    " Подсказка: посмотрите внимательно на методы класса str.\n",
    "\n",
    " **Пример:**\n",
    "\n",
    "     текст = \"How are you? Eh, ok. Low or Lower? Ohhh.\", если мы соберем все заглавные буквы, то получим сообщение \"HELLO\".\n",
    "\n",
    "<h2>Решение задания №4</h2>"
   ],
   "metadata": {
    "collapsed": false
   }
  },
  {
   "cell_type": "code",
   "execution_count": 25,
   "outputs": [
    {
     "name": "stdout",
     "output_type": "stream",
     "text": [
      "Исходная строка: How are you? Eh, ok. Low or Lower? Ohhh.\n",
      "HELLO\n"
     ]
    }
   ],
   "source": [
    "input_str = input(\"Введите строку\")\n",
    "secret_str = \"\"\n",
    "\n",
    "print(f\"Исходная строка: {input_str}\")\n",
    "\n",
    "for i in input_str.split(sep = \" \"):\n",
    "    if i[0].isupper():\n",
    "        secret_str += i[0]\n",
    "\n",
    "print(secret_str)"
   ],
   "metadata": {
    "collapsed": false
   }
  },
  {
   "cell_type": "markdown",
   "source": [
    "### [Junior] 5. Три слова\n",
    "\n",
    "Давайте научим наших роботов отличать слова от чисел.\n",
    "\n",
    "Дана строка со словами и числами, разделенными пробелами (один пробел между словами и/или числами). Слова состоят только из букв.\n",
    "\n",
    " **Дано:** Строка со словами (str).\n",
    "\n",
    " **Задание:** напишите программу, которая проверяет есть ли в исходной строке три слова подряд. Для примера, в строке \"start 5 one two three 7 end\" есть три слова подряд.\n",
    "\n",
    " **Примеры:**\n",
    "\n",
    "   text = \"Hello World hello\", результат: True\n",
    "\n",
    "   text = \"He is 123 man\", результат: False\n",
    "\n",
    "   text = \"1 2 3 4\", результат: False\n",
    "<h2>Решение задания №5</h2>"
   ],
   "metadata": {
    "collapsed": false
   }
  },
  {
   "cell_type": "code",
   "execution_count": 37,
   "outputs": [
    {
     "name": "stdout",
     "output_type": "stream",
     "text": [
      "1\n",
      "1\n",
      "1\n",
      "1\n",
      "1\n"
     ]
    }
   ],
   "source": [
    "stre = \"11 22 ff 3 4 3\"\n",
    "\n",
    "for i in stre.split(sep = \" \"):\n",
    "    if i >= str(0) and i <= str(9):\n",
    "        print(1)"
   ],
   "metadata": {
    "collapsed": false
   }
  },
  {
   "cell_type": "code",
   "execution_count": 40,
   "outputs": [
    {
     "name": "stdout",
     "output_type": "stream",
     "text": [
      "Исходная строка: 1 2 3 ff ff ff 4\n",
      "True\n"
     ]
    }
   ],
   "source": [
    "input_str = input(\"Введите строку\")\n",
    "count = 0\n",
    "print(f\"Исходная строка: {input_str}\")\n",
    "\n",
    "for word in input_str.split(sep = \" \"):\n",
    "    if word >= str(0) and word <= str(9):\n",
    "        continue\n",
    "    else:\n",
    "        count += 1\n",
    "\n",
    "if count == 3:\n",
    "    print(True)\n",
    "else:\n",
    "    print(False)\n"
   ],
   "metadata": {
    "collapsed": false
   }
  },
  {
   "cell_type": "markdown",
   "source": [
    "### [Junior+] 6. Мир захватили левши\n",
    "\n",
    "На протяжении веков, левши страдали от дискриминации в мире, созданном для правшей.\"\n",
    "Santrock, John W. (2008). Motor, Sensory, and Perceptual Development.\n",
    "\n",
    "\"Большинство людей (70-95%) правши, меньшинство (5-30 %) левши, и неопределеное число людей вероятно лучше всего охарактеризовать, как \"симметричные\".\"\n",
    "Scientific American. www.scientificamerican.com\n",
    "\n",
    "Один робот был занят простой задачей: объединить последовательность строк в одно выражение для создания инструкции по обходу корабля. Но робот был левша и зачастую шутил и запутывал своих друзей правшей.\n",
    "\n",
    " **Дано:** последовательность строк.\n",
    "\n",
    " **Задание:** вы должны объединить эти строки в блок текста, разделив изначальные строки запятыми. В качестве шутки над праворукими роботами, вы должны заменить все вхождения слова \"right\" на слова \"left\", даже если это часть другого слова. Все строки даны в нижнем регистре.\n",
    "\n",
    " **Примеры:**\n",
    "\n",
    "   [\"left\", \"right\", \"left\", \"stop\"], результат: \"left,left,left,stop\"\n",
    "\n",
    "   [\"bright aright\", \"ok\"], результат: \"bleft aleft,ok\"\n",
    "\n",
    "   [\"enough\", \"jokes\"], результат: \"enough,jokes\"\n",
    "\n",
    "<h2>Решение задания №6</h2>"
   ],
   "metadata": {
    "collapsed": false
   }
  },
  {
   "cell_type": "code",
   "execution_count": 20,
   "outputs": [
    {
     "name": "stdout",
     "output_type": "stream",
     "text": [
      "Исходная строка: ['bright aright', 'ok']\n",
      "Результат bleft aleft,ok\n"
     ]
    }
   ],
   "source": [
    "input_list = []\n",
    "\n",
    "while True:\n",
    "    input_list.append(input(\"Введите строчку:\"))\n",
    "    if len(input_list[-1]) == 0:\n",
    "        input_list.pop(-1)\n",
    "        break\n",
    "\n",
    "count = 0\n",
    "final_str = []\n",
    "print(f\"Исходная строка: {input_list}\")\n",
    "\n",
    "for word in input_list:\n",
    "    final_str += word.replace(\"right\", \"left\") + \",\"\n",
    "\n",
    "final_str[-1] = \"\"\n",
    "final_str = \"\".join(final_str)\n",
    "\n",
    "print(f\"Результат {final_str}\")"
   ],
   "metadata": {
    "collapsed": false
   }
  }
 ],
 "metadata": {
  "kernelspec": {
   "display_name": "Python 3 (ipykernel)",
   "language": "python",
   "name": "python3"
  },
  "language_info": {
   "codemirror_mode": {
    "name": "ipython",
    "version": 3
   },
   "file_extension": ".py",
   "mimetype": "text/x-python",
   "name": "python",
   "nbconvert_exporter": "python",
   "pygments_lexer": "ipython3",
   "version": "3.10.6"
  }
 },
 "nbformat": 4,
 "nbformat_minor": 4
}
