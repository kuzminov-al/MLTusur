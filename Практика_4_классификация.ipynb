{
 "nbformat": 4,
 "nbformat_minor": 0,
 "metadata": {
  "colab": {
   "provenance": []
  },
  "kernelspec": {
   "name": "python3",
   "language": "python",
   "display_name": "Python 3 (ipykernel)"
  },
  "language_info": {
   "name": "python"
  }
 },
 "cells": [
  {
   "cell_type": "markdown",
   "source": [
    "# Задание 1.\n",
    "\n",
    "Решить задачу классификации для выбранного набора данных с http://keel.es/"
   ],
   "metadata": {
    "id": "jsdS0rlY1EZt"
   }
  },
  {
   "cell_type": "code",
   "execution_count": 156,
   "outputs": [],
   "source": [
    "import pandas as pd\n",
    "import numpy as np\n",
    "from matplotlib import pyplot as plt\n",
    "import seaborn as sns"
   ],
   "metadata": {
    "collapsed": false,
    "ExecuteTime": {
     "start_time": "2023-04-05T22:19:21.703073Z",
     "end_time": "2023-04-05T22:19:22.072501Z"
    }
   }
  },
  {
   "cell_type": "markdown",
   "source": [
    "# Конвертация в csv"
   ],
   "metadata": {
    "collapsed": false
   }
  },
  {
   "cell_type": "code",
   "execution_count": 157,
   "outputs": [],
   "source": [
    "csv_header = \"Age,Workclass,Fnlwgt,Education,Education-num,Marital-status,Occupation,Relationship,Race,Sex,Capital-gain,Capital-loss,Hours-per-week,Native-country,Class\\n\"\n",
    "\n",
    "with open(\"adult.dat\", \"r\") as f:\n",
    "    lines = f.readlines()\n",
    "with open(\"adult.csv\", \"w\") as f:\n",
    "    f.write(csv_header)\n",
    "    for line_number, line in enumerate(lines):\n",
    "        if (line_number >= 19):\n",
    "            f.write(line)"
   ],
   "metadata": {
    "collapsed": false,
    "ExecuteTime": {
     "start_time": "2023-04-05T22:19:21.718699Z",
     "end_time": "2023-04-05T22:19:22.299339Z"
    }
   }
  },
  {
   "cell_type": "markdown",
   "source": [
    "# Препроцессинг"
   ],
   "metadata": {
    "collapsed": false
   }
  },
  {
   "cell_type": "code",
   "execution_count": 158,
   "outputs": [
    {
     "data": {
      "text/plain": "   Age  Workclass  Fnlwgt     Education  Education-num      Marital-status  \\\n0   25    Private  226802          11th              7       Never-married   \n1   38    Private   89814       HS-grad              9  Married-civ-spouse   \n2   28  Local-gov  336951    Assoc-acdm             12  Married-civ-spouse   \n3   44    Private  160323  Some-college             10  Married-civ-spouse   \n4   18          ?  103497  Some-college             10       Never-married   \n\n          Occupation Relationship   Race     Sex  Capital-gain  Capital-loss  \\\n0  Machine-op-inspct    Own-child  Black    Male             0             0   \n1    Farming-fishing      Husband  White    Male             0             0   \n2    Protective-serv      Husband  White    Male             0             0   \n3  Machine-op-inspct      Husband  Black    Male          7688             0   \n4                  ?    Own-child  White  Female             0             0   \n\n   Hours-per-week Native-country  Class  \n0              40  United-States  <=50K  \n1              50  United-States  <=50K  \n2              40  United-States   >50K  \n3              40  United-States   >50K  \n4              30  United-States  <=50K  ",
      "text/html": "<div>\n<style scoped>\n    .dataframe tbody tr th:only-of-type {\n        vertical-align: middle;\n    }\n\n    .dataframe tbody tr th {\n        vertical-align: top;\n    }\n\n    .dataframe thead th {\n        text-align: right;\n    }\n</style>\n<table border=\"1\" class=\"dataframe\">\n  <thead>\n    <tr style=\"text-align: right;\">\n      <th></th>\n      <th>Age</th>\n      <th>Workclass</th>\n      <th>Fnlwgt</th>\n      <th>Education</th>\n      <th>Education-num</th>\n      <th>Marital-status</th>\n      <th>Occupation</th>\n      <th>Relationship</th>\n      <th>Race</th>\n      <th>Sex</th>\n      <th>Capital-gain</th>\n      <th>Capital-loss</th>\n      <th>Hours-per-week</th>\n      <th>Native-country</th>\n      <th>Class</th>\n    </tr>\n  </thead>\n  <tbody>\n    <tr>\n      <th>0</th>\n      <td>25</td>\n      <td>Private</td>\n      <td>226802</td>\n      <td>11th</td>\n      <td>7</td>\n      <td>Never-married</td>\n      <td>Machine-op-inspct</td>\n      <td>Own-child</td>\n      <td>Black</td>\n      <td>Male</td>\n      <td>0</td>\n      <td>0</td>\n      <td>40</td>\n      <td>United-States</td>\n      <td>&lt;=50K</td>\n    </tr>\n    <tr>\n      <th>1</th>\n      <td>38</td>\n      <td>Private</td>\n      <td>89814</td>\n      <td>HS-grad</td>\n      <td>9</td>\n      <td>Married-civ-spouse</td>\n      <td>Farming-fishing</td>\n      <td>Husband</td>\n      <td>White</td>\n      <td>Male</td>\n      <td>0</td>\n      <td>0</td>\n      <td>50</td>\n      <td>United-States</td>\n      <td>&lt;=50K</td>\n    </tr>\n    <tr>\n      <th>2</th>\n      <td>28</td>\n      <td>Local-gov</td>\n      <td>336951</td>\n      <td>Assoc-acdm</td>\n      <td>12</td>\n      <td>Married-civ-spouse</td>\n      <td>Protective-serv</td>\n      <td>Husband</td>\n      <td>White</td>\n      <td>Male</td>\n      <td>0</td>\n      <td>0</td>\n      <td>40</td>\n      <td>United-States</td>\n      <td>&gt;50K</td>\n    </tr>\n    <tr>\n      <th>3</th>\n      <td>44</td>\n      <td>Private</td>\n      <td>160323</td>\n      <td>Some-college</td>\n      <td>10</td>\n      <td>Married-civ-spouse</td>\n      <td>Machine-op-inspct</td>\n      <td>Husband</td>\n      <td>Black</td>\n      <td>Male</td>\n      <td>7688</td>\n      <td>0</td>\n      <td>40</td>\n      <td>United-States</td>\n      <td>&gt;50K</td>\n    </tr>\n    <tr>\n      <th>4</th>\n      <td>18</td>\n      <td>?</td>\n      <td>103497</td>\n      <td>Some-college</td>\n      <td>10</td>\n      <td>Never-married</td>\n      <td>?</td>\n      <td>Own-child</td>\n      <td>White</td>\n      <td>Female</td>\n      <td>0</td>\n      <td>0</td>\n      <td>30</td>\n      <td>United-States</td>\n      <td>&lt;=50K</td>\n    </tr>\n  </tbody>\n</table>\n</div>"
     },
     "execution_count": 158,
     "metadata": {},
     "output_type": "execute_result"
    }
   ],
   "source": [
    "df = pd.read_csv('adult.csv')\n",
    "df.head()"
   ],
   "metadata": {
    "collapsed": false,
    "ExecuteTime": {
     "start_time": "2023-04-05T22:19:22.299339Z",
     "end_time": "2023-04-05T22:19:22.455589Z"
    }
   }
  },
  {
   "cell_type": "code",
   "execution_count": 159,
   "outputs": [],
   "source": [
    "df.replace('?', np.nan, inplace=True)"
   ],
   "metadata": {
    "collapsed": false,
    "ExecuteTime": {
     "start_time": "2023-04-05T22:19:22.455589Z",
     "end_time": "2023-04-05T22:19:22.518081Z"
    }
   }
  },
  {
   "cell_type": "code",
   "execution_count": 160,
   "outputs": [
    {
     "name": "stdout",
     "output_type": "stream",
     "text": [
      "<class 'pandas.core.frame.DataFrame'>\n",
      "RangeIndex: 48842 entries, 0 to 48841\n",
      "Data columns (total 15 columns):\n",
      " #   Column          Non-Null Count  Dtype \n",
      "---  ------          --------------  ----- \n",
      " 0   Age             48842 non-null  int64 \n",
      " 1   Workclass       46043 non-null  object\n",
      " 2   Fnlwgt          48842 non-null  int64 \n",
      " 3   Education       48842 non-null  object\n",
      " 4   Education-num   48842 non-null  int64 \n",
      " 5   Marital-status  48842 non-null  object\n",
      " 6   Occupation      46033 non-null  object\n",
      " 7   Relationship    48842 non-null  object\n",
      " 8   Race            48842 non-null  object\n",
      " 9   Sex             48842 non-null  object\n",
      " 10  Capital-gain    48842 non-null  int64 \n",
      " 11  Capital-loss    48842 non-null  int64 \n",
      " 12  Hours-per-week  48842 non-null  int64 \n",
      " 13  Native-country  47985 non-null  object\n",
      " 14  Class           48842 non-null  object\n",
      "dtypes: int64(6), object(9)\n",
      "memory usage: 5.6+ MB\n"
     ]
    }
   ],
   "source": [
    "df.info()"
   ],
   "metadata": {
    "collapsed": false,
    "ExecuteTime": {
     "start_time": "2023-04-05T22:19:22.502481Z",
     "end_time": "2023-04-05T22:19:22.768085Z"
    }
   }
  },
  {
   "cell_type": "code",
   "execution_count": 161,
   "outputs": [
    {
     "data": {
      "text/plain": "                Age        Fnlwgt  Education-num  Capital-gain  Capital-loss  \\\ncount  48842.000000  4.884200e+04   48842.000000  48842.000000  48842.000000   \nmean      38.643585  1.896641e+05      10.078089   1079.067626     87.502314   \nstd       13.710510  1.056040e+05       2.570973   7452.019058    403.004552   \nmin       17.000000  1.228500e+04       1.000000      0.000000      0.000000   \n25%       28.000000  1.175505e+05       9.000000      0.000000      0.000000   \n50%       37.000000  1.781445e+05      10.000000      0.000000      0.000000   \n75%       48.000000  2.376420e+05      12.000000      0.000000      0.000000   \nmax       90.000000  1.490400e+06      16.000000  99999.000000   4356.000000   \n\n       Hours-per-week  \ncount    48842.000000  \nmean        40.422382  \nstd         12.391444  \nmin          1.000000  \n25%         40.000000  \n50%         40.000000  \n75%         45.000000  \nmax         99.000000  ",
      "text/html": "<div>\n<style scoped>\n    .dataframe tbody tr th:only-of-type {\n        vertical-align: middle;\n    }\n\n    .dataframe tbody tr th {\n        vertical-align: top;\n    }\n\n    .dataframe thead th {\n        text-align: right;\n    }\n</style>\n<table border=\"1\" class=\"dataframe\">\n  <thead>\n    <tr style=\"text-align: right;\">\n      <th></th>\n      <th>Age</th>\n      <th>Fnlwgt</th>\n      <th>Education-num</th>\n      <th>Capital-gain</th>\n      <th>Capital-loss</th>\n      <th>Hours-per-week</th>\n    </tr>\n  </thead>\n  <tbody>\n    <tr>\n      <th>count</th>\n      <td>48842.000000</td>\n      <td>4.884200e+04</td>\n      <td>48842.000000</td>\n      <td>48842.000000</td>\n      <td>48842.000000</td>\n      <td>48842.000000</td>\n    </tr>\n    <tr>\n      <th>mean</th>\n      <td>38.643585</td>\n      <td>1.896641e+05</td>\n      <td>10.078089</td>\n      <td>1079.067626</td>\n      <td>87.502314</td>\n      <td>40.422382</td>\n    </tr>\n    <tr>\n      <th>std</th>\n      <td>13.710510</td>\n      <td>1.056040e+05</td>\n      <td>2.570973</td>\n      <td>7452.019058</td>\n      <td>403.004552</td>\n      <td>12.391444</td>\n    </tr>\n    <tr>\n      <th>min</th>\n      <td>17.000000</td>\n      <td>1.228500e+04</td>\n      <td>1.000000</td>\n      <td>0.000000</td>\n      <td>0.000000</td>\n      <td>1.000000</td>\n    </tr>\n    <tr>\n      <th>25%</th>\n      <td>28.000000</td>\n      <td>1.175505e+05</td>\n      <td>9.000000</td>\n      <td>0.000000</td>\n      <td>0.000000</td>\n      <td>40.000000</td>\n    </tr>\n    <tr>\n      <th>50%</th>\n      <td>37.000000</td>\n      <td>1.781445e+05</td>\n      <td>10.000000</td>\n      <td>0.000000</td>\n      <td>0.000000</td>\n      <td>40.000000</td>\n    </tr>\n    <tr>\n      <th>75%</th>\n      <td>48.000000</td>\n      <td>2.376420e+05</td>\n      <td>12.000000</td>\n      <td>0.000000</td>\n      <td>0.000000</td>\n      <td>45.000000</td>\n    </tr>\n    <tr>\n      <th>max</th>\n      <td>90.000000</td>\n      <td>1.490400e+06</td>\n      <td>16.000000</td>\n      <td>99999.000000</td>\n      <td>4356.000000</td>\n      <td>99.000000</td>\n    </tr>\n  </tbody>\n</table>\n</div>"
     },
     "execution_count": 161,
     "metadata": {},
     "output_type": "execute_result"
    }
   ],
   "source": [
    "df.describe()"
   ],
   "metadata": {
    "collapsed": false,
    "ExecuteTime": {
     "start_time": "2023-04-05T22:19:22.658712Z",
     "end_time": "2023-04-05T22:19:22.768085Z"
    }
   }
  },
  {
   "cell_type": "code",
   "execution_count": 162,
   "outputs": [
    {
     "data": {
      "text/plain": "Age                  0\nWorkclass         2799\nFnlwgt               0\nEducation            0\nEducation-num        0\nMarital-status       0\nOccupation        2809\nRelationship         0\nRace                 0\nSex                  0\nCapital-gain         0\nCapital-loss         0\nHours-per-week       0\nNative-country     857\nClass                0\ndtype: int64"
     },
     "execution_count": 162,
     "metadata": {},
     "output_type": "execute_result"
    }
   ],
   "source": [
    "df.isna().sum()"
   ],
   "metadata": {
    "collapsed": false,
    "ExecuteTime": {
     "start_time": "2023-04-05T22:19:22.736832Z",
     "end_time": "2023-04-05T22:19:22.971212Z"
    }
   }
  },
  {
   "cell_type": "code",
   "execution_count": 163,
   "outputs": [],
   "source": [
    "df.dropna(inplace=True)"
   ],
   "metadata": {
    "collapsed": false,
    "ExecuteTime": {
     "start_time": "2023-04-05T22:19:22.893080Z",
     "end_time": "2023-04-05T22:19:23.293852Z"
    }
   }
  },
  {
   "cell_type": "code",
   "execution_count": 164,
   "outputs": [
    {
     "data": {
      "text/plain": "Age               0\nWorkclass         0\nFnlwgt            0\nEducation         0\nEducation-num     0\nMarital-status    0\nOccupation        0\nRelationship      0\nRace              0\nSex               0\nCapital-gain      0\nCapital-loss      0\nHours-per-week    0\nNative-country    0\nClass             0\ndtype: int64"
     },
     "execution_count": 164,
     "metadata": {},
     "output_type": "execute_result"
    }
   ],
   "source": [
    "df.isna().sum()"
   ],
   "metadata": {
    "collapsed": false,
    "ExecuteTime": {
     "start_time": "2023-04-05T22:19:23.049337Z",
     "end_time": "2023-04-05T22:19:23.325104Z"
    }
   }
  },
  {
   "cell_type": "code",
   "execution_count": 165,
   "outputs": [
    {
     "name": "stdout",
     "output_type": "stream",
     "text": [
      "Столбцы: Index(['Age', 'Workclass', 'Fnlwgt', 'Education-num', 'Marital-status',\n",
      "       'Occupation', 'Relationship', 'Race', 'Sex', 'Capital-gain',\n",
      "       'Capital-loss', 'Hours-per-week', 'Native-country'],\n",
      "      dtype='object')\n",
      "Размер features: (45222, 13)\n",
      "Размер target: (45222,)\n"
     ]
    }
   ],
   "source": [
    "features = df.drop(['Education', 'Class'], axis=1)\n",
    "target = df['Class']\n",
    "print(f\"Столбцы: {features.columns}\")\n",
    "print(f\"Размер features: {features.shape}\")\n",
    "print(f\"Размер target: {target.shape}\")"
   ],
   "metadata": {
    "collapsed": false,
    "ExecuteTime": {
     "start_time": "2023-04-05T22:19:23.261478Z",
     "end_time": "2023-04-05T22:19:23.325104Z"
    }
   }
  },
  {
   "cell_type": "code",
   "execution_count": 166,
   "outputs": [
    {
     "name": "stdout",
     "output_type": "stream",
     "text": [
      "Коэффициент дисбаланса: 3.034796573875803\n"
     ]
    }
   ],
   "source": [
    "df_classes = df['Class'].value_counts()\n",
    "print(f'Коэффициент дисбаланса: {df_classes.max() / df_classes.min()}')"
   ],
   "metadata": {
    "collapsed": false,
    "ExecuteTime": {
     "start_time": "2023-04-05T22:19:23.293852Z",
     "end_time": "2023-04-05T22:19:23.340727Z"
    }
   }
  },
  {
   "cell_type": "markdown",
   "source": [
    "Проверка на дисбаланс классов"
   ],
   "metadata": {
    "collapsed": false
   }
  },
  {
   "cell_type": "code",
   "execution_count": 167,
   "outputs": [
    {
     "data": {
      "text/plain": "<=50K    34014\n>50K     11208\nName: Class, dtype: int64"
     },
     "execution_count": 167,
     "metadata": {},
     "output_type": "execute_result"
    }
   ],
   "source": [
    "target.value_counts()"
   ],
   "metadata": {
    "collapsed": false,
    "ExecuteTime": {
     "start_time": "2023-04-05T22:19:23.325104Z",
     "end_time": "2023-04-05T22:19:23.541325Z"
    }
   }
  },
  {
   "cell_type": "code",
   "execution_count": 168,
   "outputs": [],
   "source": [
    "target = target.map({'<=50K': 0, '>50K': 1})"
   ],
   "metadata": {
    "collapsed": false,
    "ExecuteTime": {
     "start_time": "2023-04-05T22:19:23.356354Z",
     "end_time": "2023-04-05T22:19:23.541325Z"
    }
   }
  },
  {
   "cell_type": "code",
   "execution_count": 169,
   "outputs": [
    {
     "data": {
      "text/plain": "0    34014\n1    11208\nName: Class, dtype: int64"
     },
     "execution_count": 169,
     "metadata": {},
     "output_type": "execute_result"
    }
   ],
   "source": [
    "target.value_counts()"
   ],
   "metadata": {
    "collapsed": false,
    "ExecuteTime": {
     "start_time": "2023-04-05T22:19:23.403230Z",
     "end_time": "2023-04-05T22:19:23.541325Z"
    }
   }
  },
  {
   "cell_type": "markdown",
   "source": [],
   "metadata": {
    "collapsed": false
   }
  },
  {
   "cell_type": "markdown",
   "source": [
    "Нормализация данных"
   ],
   "metadata": {
    "collapsed": false
   }
  },
  {
   "cell_type": "code",
   "execution_count": 170,
   "outputs": [
    {
     "name": "stdout",
     "output_type": "stream",
     "text": [
      "Столбцы с числами: ['Age', 'Fnlwgt', 'Education-num', 'Capital-gain', 'Capital-loss', 'Hours-per-week']\n"
     ]
    }
   ],
   "source": [
    "from sklearn.preprocessing import MinMaxScaler\n",
    "\n",
    "columns = features.columns\n",
    "num_col = list(features.select_dtypes(include='number').columns)\n",
    "print(f\"Столбцы с числами: {num_col}\")\n",
    "scaler = MinMaxScaler()\n",
    "features[num_col] = scaler.fit_transform(features[num_col])"
   ],
   "metadata": {
    "collapsed": false,
    "ExecuteTime": {
     "start_time": "2023-04-05T22:19:23.434484Z",
     "end_time": "2023-04-05T22:19:23.588200Z"
    }
   }
  },
  {
   "cell_type": "markdown",
   "source": [
    "Добавление фиктивных переменных"
   ],
   "metadata": {
    "collapsed": false
   }
  },
  {
   "cell_type": "code",
   "execution_count": 171,
   "outputs": [],
   "source": [
    "features = pd.get_dummies(features)"
   ],
   "metadata": {
    "collapsed": false,
    "ExecuteTime": {
     "start_time": "2023-04-05T22:19:23.478824Z",
     "end_time": "2023-04-05T22:19:23.715887Z"
    }
   }
  },
  {
   "cell_type": "code",
   "execution_count": 172,
   "outputs": [
    {
     "data": {
      "text/plain": "        Age    Fnlwgt  Education-num  Capital-gain  Capital-loss  \\\n0  0.109589  0.144430       0.400000      0.000000           0.0   \n1  0.287671  0.051677       0.533333      0.000000           0.0   \n2  0.150685  0.219011       0.733333      0.000000           0.0   \n3  0.369863  0.099418       0.600000      0.076881           0.0   \n5  0.232877  0.125398       0.333333      0.000000           0.0   \n\n   Hours-per-week  Workclass_Federal-gov  Workclass_Local-gov  \\\n0        0.397959                      0                    0   \n1        0.500000                      0                    0   \n2        0.397959                      0                    1   \n3        0.397959                      0                    0   \n5        0.295918                      0                    0   \n\n   Workclass_Private  Workclass_Self-emp-inc  ...  Native-country_Portugal  \\\n0                  1                       0  ...                        0   \n1                  1                       0  ...                        0   \n2                  0                       0  ...                        0   \n3                  1                       0  ...                        0   \n5                  1                       0  ...                        0   \n\n   Native-country_Puerto-Rico  Native-country_Scotland  Native-country_South  \\\n0                           0                        0                     0   \n1                           0                        0                     0   \n2                           0                        0                     0   \n3                           0                        0                     0   \n5                           0                        0                     0   \n\n   Native-country_Taiwan  Native-country_Thailand  \\\n0                      0                        0   \n1                      0                        0   \n2                      0                        0   \n3                      0                        0   \n5                      0                        0   \n\n   Native-country_Trinadad&Tobago  Native-country_United-States  \\\n0                               0                             1   \n1                               0                             1   \n2                               0                             1   \n3                               0                             1   \n5                               0                             1   \n\n   Native-country_Vietnam  Native-country_Yugoslavia  \n0                       0                          0  \n1                       0                          0  \n2                       0                          0  \n3                       0                          0  \n5                       0                          0  \n\n[5 rows x 88 columns]",
      "text/html": "<div>\n<style scoped>\n    .dataframe tbody tr th:only-of-type {\n        vertical-align: middle;\n    }\n\n    .dataframe tbody tr th {\n        vertical-align: top;\n    }\n\n    .dataframe thead th {\n        text-align: right;\n    }\n</style>\n<table border=\"1\" class=\"dataframe\">\n  <thead>\n    <tr style=\"text-align: right;\">\n      <th></th>\n      <th>Age</th>\n      <th>Fnlwgt</th>\n      <th>Education-num</th>\n      <th>Capital-gain</th>\n      <th>Capital-loss</th>\n      <th>Hours-per-week</th>\n      <th>Workclass_Federal-gov</th>\n      <th>Workclass_Local-gov</th>\n      <th>Workclass_Private</th>\n      <th>Workclass_Self-emp-inc</th>\n      <th>...</th>\n      <th>Native-country_Portugal</th>\n      <th>Native-country_Puerto-Rico</th>\n      <th>Native-country_Scotland</th>\n      <th>Native-country_South</th>\n      <th>Native-country_Taiwan</th>\n      <th>Native-country_Thailand</th>\n      <th>Native-country_Trinadad&amp;Tobago</th>\n      <th>Native-country_United-States</th>\n      <th>Native-country_Vietnam</th>\n      <th>Native-country_Yugoslavia</th>\n    </tr>\n  </thead>\n  <tbody>\n    <tr>\n      <th>0</th>\n      <td>0.109589</td>\n      <td>0.144430</td>\n      <td>0.400000</td>\n      <td>0.000000</td>\n      <td>0.0</td>\n      <td>0.397959</td>\n      <td>0</td>\n      <td>0</td>\n      <td>1</td>\n      <td>0</td>\n      <td>...</td>\n      <td>0</td>\n      <td>0</td>\n      <td>0</td>\n      <td>0</td>\n      <td>0</td>\n      <td>0</td>\n      <td>0</td>\n      <td>1</td>\n      <td>0</td>\n      <td>0</td>\n    </tr>\n    <tr>\n      <th>1</th>\n      <td>0.287671</td>\n      <td>0.051677</td>\n      <td>0.533333</td>\n      <td>0.000000</td>\n      <td>0.0</td>\n      <td>0.500000</td>\n      <td>0</td>\n      <td>0</td>\n      <td>1</td>\n      <td>0</td>\n      <td>...</td>\n      <td>0</td>\n      <td>0</td>\n      <td>0</td>\n      <td>0</td>\n      <td>0</td>\n      <td>0</td>\n      <td>0</td>\n      <td>1</td>\n      <td>0</td>\n      <td>0</td>\n    </tr>\n    <tr>\n      <th>2</th>\n      <td>0.150685</td>\n      <td>0.219011</td>\n      <td>0.733333</td>\n      <td>0.000000</td>\n      <td>0.0</td>\n      <td>0.397959</td>\n      <td>0</td>\n      <td>1</td>\n      <td>0</td>\n      <td>0</td>\n      <td>...</td>\n      <td>0</td>\n      <td>0</td>\n      <td>0</td>\n      <td>0</td>\n      <td>0</td>\n      <td>0</td>\n      <td>0</td>\n      <td>1</td>\n      <td>0</td>\n      <td>0</td>\n    </tr>\n    <tr>\n      <th>3</th>\n      <td>0.369863</td>\n      <td>0.099418</td>\n      <td>0.600000</td>\n      <td>0.076881</td>\n      <td>0.0</td>\n      <td>0.397959</td>\n      <td>0</td>\n      <td>0</td>\n      <td>1</td>\n      <td>0</td>\n      <td>...</td>\n      <td>0</td>\n      <td>0</td>\n      <td>0</td>\n      <td>0</td>\n      <td>0</td>\n      <td>0</td>\n      <td>0</td>\n      <td>1</td>\n      <td>0</td>\n      <td>0</td>\n    </tr>\n    <tr>\n      <th>5</th>\n      <td>0.232877</td>\n      <td>0.125398</td>\n      <td>0.333333</td>\n      <td>0.000000</td>\n      <td>0.0</td>\n      <td>0.295918</td>\n      <td>0</td>\n      <td>0</td>\n      <td>1</td>\n      <td>0</td>\n      <td>...</td>\n      <td>0</td>\n      <td>0</td>\n      <td>0</td>\n      <td>0</td>\n      <td>0</td>\n      <td>0</td>\n      <td>0</td>\n      <td>1</td>\n      <td>0</td>\n      <td>0</td>\n    </tr>\n  </tbody>\n</table>\n<p>5 rows × 88 columns</p>\n</div>"
     },
     "execution_count": 172,
     "metadata": {},
     "output_type": "execute_result"
    }
   ],
   "source": [
    "features.head()"
   ],
   "metadata": {
    "collapsed": false,
    "ExecuteTime": {
     "start_time": "2023-04-05T22:19:23.653375Z",
     "end_time": "2023-04-05T22:19:23.778387Z"
    }
   }
  },
  {
   "cell_type": "code",
   "execution_count": 173,
   "outputs": [
    {
     "data": {
      "text/plain": "0    0\n1    0\n2    1\n3    1\n5    0\nName: Class, dtype: int64"
     },
     "execution_count": 173,
     "metadata": {},
     "output_type": "execute_result"
    }
   ],
   "source": [
    "target.head()"
   ],
   "metadata": {
    "collapsed": false,
    "ExecuteTime": {
     "start_time": "2023-04-05T22:19:23.731511Z",
     "end_time": "2023-04-05T22:19:23.887758Z"
    }
   }
  },
  {
   "cell_type": "markdown",
   "source": [
    "Разделение данных на тестовую и обучающую выборки"
   ],
   "metadata": {
    "collapsed": false
   }
  },
  {
   "cell_type": "code",
   "execution_count": 174,
   "outputs": [],
   "source": [
    "from sklearn.model_selection import train_test_split\n",
    "\n",
    "features_train, features_test, target_train, target_test = train_test_split(\n",
    "                        features,\n",
    "                        target,\n",
    "                        train_size=0.75,\n",
    "                        random_state=50)"
   ],
   "metadata": {
    "collapsed": false,
    "ExecuteTime": {
     "start_time": "2023-04-05T22:19:23.794005Z",
     "end_time": "2023-04-05T22:19:23.950250Z"
    }
   }
  },
  {
   "cell_type": "code",
   "execution_count": 175,
   "outputs": [
    {
     "name": "stdout",
     "output_type": "stream",
     "text": [
      "(33916, 88) (11306, 88) (33916,) (11306,)\n"
     ]
    }
   ],
   "source": [
    "print(features_train.shape,\n",
    "      features_test.shape,\n",
    "      target_train.shape,\n",
    "      target_test.shape)"
   ],
   "metadata": {
    "collapsed": false,
    "ExecuteTime": {
     "start_time": "2023-04-05T22:19:23.856508Z",
     "end_time": "2023-04-05T22:19:24.059642Z"
    }
   }
  },
  {
   "cell_type": "markdown",
   "source": [
    "### Выводы\n",
    "* Столбец 'Education' удалён, так как он дублируется столбцом 'Education-num'\n",
    "* Удалены пропущенные значения, так как предсказать категориальные фичи очень сложно и их не особо много\n",
    "* Переведены категориальные переменные в фиктивные признаки"
   ],
   "metadata": {
    "collapsed": false
   }
  },
  {
   "cell_type": "markdown",
   "source": [
    "# Обучение с помощью Catboost"
   ],
   "metadata": {
    "collapsed": false
   }
  },
  {
   "cell_type": "code",
   "execution_count": 176,
   "outputs": [],
   "source": [
    "from catboost import CatBoostClassifier\n",
    "from sklearn.model_selection import GridSearchCV\n",
    "from sklearn.metrics import classification_report"
   ],
   "metadata": {
    "collapsed": false,
    "ExecuteTime": {
     "start_time": "2023-04-05T22:19:23.872133Z",
     "end_time": "2023-04-05T22:19:24.101191Z"
    }
   }
  },
  {
   "cell_type": "code",
   "execution_count": 177,
   "outputs": [
    {
     "name": "stderr",
     "output_type": "stream",
     "text": [
      "C:\\Users\\alexander\\anaconda3\\envs\\DataScience\\lib\\site-packages\\catboost\\core.py:1411: FutureWarning: iteritems is deprecated and will be removed in a future version. Use .items instead.\n",
      "  self._init_pool(data, label, cat_features, text_features, embedding_features, embedding_features_data, pairs, weight,\n"
     ]
    },
    {
     "name": "stdout",
     "output_type": "stream",
     "text": [
      "0:\tlearn: 0.6860260\ttotal: 17.3ms\tremaining: 847ms\n",
      "1:\tlearn: 0.6782028\ttotal: 34.4ms\tremaining: 825ms\n",
      "2:\tlearn: 0.6709733\ttotal: 49.8ms\tremaining: 780ms\n",
      "3:\tlearn: 0.6644347\ttotal: 65ms\tremaining: 748ms\n",
      "4:\tlearn: 0.6579911\ttotal: 80.1ms\tremaining: 721ms\n",
      "5:\tlearn: 0.6510735\ttotal: 95.2ms\tremaining: 698ms\n",
      "6:\tlearn: 0.6443341\ttotal: 111ms\tremaining: 682ms\n",
      "7:\tlearn: 0.6383489\ttotal: 125ms\tremaining: 657ms\n",
      "8:\tlearn: 0.6329386\ttotal: 140ms\tremaining: 636ms\n",
      "9:\tlearn: 0.6275516\ttotal: 155ms\tremaining: 620ms\n",
      "10:\tlearn: 0.6220939\ttotal: 168ms\tremaining: 595ms\n",
      "11:\tlearn: 0.6165887\ttotal: 181ms\tremaining: 574ms\n",
      "12:\tlearn: 0.6111545\ttotal: 197ms\tremaining: 561ms\n",
      "13:\tlearn: 0.6061415\ttotal: 217ms\tremaining: 559ms\n",
      "14:\tlearn: 0.6015843\ttotal: 242ms\tremaining: 566ms\n",
      "15:\tlearn: 0.5969881\ttotal: 260ms\tremaining: 552ms\n",
      "16:\tlearn: 0.5923441\ttotal: 275ms\tremaining: 535ms\n",
      "17:\tlearn: 0.5883208\ttotal: 290ms\tremaining: 515ms\n",
      "18:\tlearn: 0.5841665\ttotal: 305ms\tremaining: 498ms\n",
      "19:\tlearn: 0.5793006\ttotal: 325ms\tremaining: 487ms\n",
      "20:\tlearn: 0.5750027\ttotal: 377ms\tremaining: 521ms\n",
      "21:\tlearn: 0.5706889\ttotal: 407ms\tremaining: 518ms\n",
      "22:\tlearn: 0.5665176\ttotal: 425ms\tremaining: 499ms\n",
      "23:\tlearn: 0.5625296\ttotal: 443ms\tremaining: 479ms\n",
      "24:\tlearn: 0.5589499\ttotal: 463ms\tremaining: 463ms\n",
      "25:\tlearn: 0.5547983\ttotal: 480ms\tremaining: 444ms\n",
      "26:\tlearn: 0.5511442\ttotal: 499ms\tremaining: 425ms\n",
      "27:\tlearn: 0.5480618\ttotal: 522ms\tremaining: 410ms\n",
      "28:\tlearn: 0.5443282\ttotal: 549ms\tremaining: 398ms\n",
      "29:\tlearn: 0.5412951\ttotal: 569ms\tremaining: 379ms\n",
      "30:\tlearn: 0.5383689\ttotal: 597ms\tremaining: 366ms\n",
      "31:\tlearn: 0.5348711\ttotal: 612ms\tremaining: 344ms\n",
      "32:\tlearn: 0.5319401\ttotal: 624ms\tremaining: 322ms\n",
      "33:\tlearn: 0.5287553\ttotal: 639ms\tremaining: 301ms\n",
      "34:\tlearn: 0.5256232\ttotal: 652ms\tremaining: 279ms\n",
      "35:\tlearn: 0.5233269\ttotal: 665ms\tremaining: 259ms\n",
      "36:\tlearn: 0.5212438\ttotal: 679ms\tremaining: 239ms\n",
      "37:\tlearn: 0.5185771\ttotal: 694ms\tremaining: 219ms\n",
      "38:\tlearn: 0.5160001\ttotal: 706ms\tremaining: 199ms\n",
      "39:\tlearn: 0.5134758\ttotal: 718ms\tremaining: 179ms\n",
      "40:\tlearn: 0.5110183\ttotal: 730ms\tremaining: 160ms\n",
      "41:\tlearn: 0.5086941\ttotal: 742ms\tremaining: 141ms\n",
      "42:\tlearn: 0.5066039\ttotal: 754ms\tremaining: 123ms\n",
      "43:\tlearn: 0.5045870\ttotal: 765ms\tremaining: 104ms\n",
      "44:\tlearn: 0.5025786\ttotal: 777ms\tremaining: 86.3ms\n",
      "45:\tlearn: 0.5005457\ttotal: 788ms\tremaining: 68.6ms\n",
      "46:\tlearn: 0.4983460\ttotal: 800ms\tremaining: 51.1ms\n",
      "47:\tlearn: 0.4964334\ttotal: 812ms\tremaining: 33.8ms\n",
      "48:\tlearn: 0.4945421\ttotal: 825ms\tremaining: 16.8ms\n",
      "49:\tlearn: 0.4924857\ttotal: 838ms\tremaining: 0us\n",
      "              precision    recall  f1-score   support\n",
      "\n",
      "           0       0.94      0.76      0.84      8518\n",
      "           1       0.54      0.87      0.66      2788\n",
      "\n",
      "    accuracy                           0.78     11306\n",
      "   macro avg       0.74      0.81      0.75     11306\n",
      "weighted avg       0.84      0.78      0.80     11306\n",
      "\n"
     ]
    }
   ],
   "source": [
    "model = CatBoostClassifier(depth=5,\n",
    "                           iterations=50,\n",
    "                           learning_rate=0.01,\n",
    "                           auto_class_weights='Balanced')\n",
    "model.fit(features_train, target_train)\n",
    "predict = model.predict(features_test)\n",
    "\n",
    "report = classification_report(target_test, predict)\n",
    "print(report)"
   ],
   "metadata": {
    "collapsed": false,
    "ExecuteTime": {
     "start_time": "2023-04-05T22:19:23.887758Z",
     "end_time": "2023-04-05T22:19:25.400388Z"
    }
   }
  },
  {
   "cell_type": "code",
   "execution_count": 178,
   "outputs": [
    {
     "name": "stdout",
     "output_type": "stream",
     "text": [
      "[[0.75557643 0.24442357]\n",
      " [0.13450502 0.86549498]]\n"
     ]
    },
    {
     "name": "stderr",
     "output_type": "stream",
     "text": [
      "C:\\Users\\alexander\\anaconda3\\envs\\DataScience\\lib\\site-packages\\catboost\\core.py:1411: FutureWarning: iteritems is deprecated and will be removed in a future version. Use .items instead.\n",
      "  self._init_pool(data, label, cat_features, text_features, embedding_features, embedding_features_data, pairs, weight,\n"
     ]
    },
    {
     "data": {
      "text/plain": "<Figure size 640x480 with 2 Axes>",
      "image/png": "[encoded data removed]"
     },
     "metadata": {},
     "output_type": "display_data"
    }
   ],
   "source": [
    "from sklearn.metrics import confusion_matrix\n",
    "from sklearn.metrics import ConfusionMatrixDisplay\n",
    "\n",
    "disp = ConfusionMatrixDisplay.from_estimator(\n",
    "    model,\n",
    "    features_test,\n",
    "    target_test,\n",
    "    cmap=plt.cm.Blues,\n",
    "    normalize='true')\n",
    "print(disp.confusion_matrix)"
   ],
   "metadata": {
    "collapsed": false,
    "ExecuteTime": {
     "start_time": "2023-04-05T22:19:25.400388Z",
     "end_time": "2023-04-05T22:19:25.892037Z"
    }
   }
  },
  {
   "cell_type": "markdown",
   "source": [
    "### Вывод:\n",
    "Анализируя метрики recall и precision для положительного класса имеет место большая чувствительность модели к положительному классу, хотя они на самом деле являются отрицательными (precision = 0.54), то есть модель переобучается на положительном классе"
   ],
   "metadata": {
    "collapsed": false
   }
  }
 ]
}
